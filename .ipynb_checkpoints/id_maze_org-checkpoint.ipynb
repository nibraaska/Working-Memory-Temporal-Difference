{
 "cells": [
  {
   "cell_type": "code",
   "execution_count": null,
   "metadata": {},
   "outputs": [],
   "source": [
    "from random import randint\n",
    "import random\n",
    "%matplotlib inline\n",
    "from matplotlib import pyplot as plt\n",
    "from numpy import arange\n",
    "import numpy as np"
   ]
  },
  {
   "cell_type": "code",
   "execution_count": null,
   "metadata": {},
   "outputs": [],
   "source": [
    "goal_state_1 = 500\n",
    "size_of_maze = 1000\n",
    "episodes = 10000\n",
    "discount = 0.99\n",
    "alpha = 0.99\n",
    "e_soft = .01"
   ]
  },
  {
   "cell_type": "code",
   "execution_count": null,
   "metadata": {},
   "outputs": [],
   "source": [
    "reward = [-1] * size_of_maze\n",
    "reward[goal_state_1] = 0\n",
    "value = [0] * size_of_maze\n",
    "start_location = randint(0, size_of_maze - 1)"
   ]
  },
  {
   "cell_type": "code",
   "execution_count": null,
   "metadata": {},
   "outputs": [],
   "source": [
    "state = randint(0, size_of_maze - 1)\n",
    "state_prime = start_location"
   ]
  },
  {
   "cell_type": "code",
   "execution_count": null,
   "metadata": {},
   "outputs": [],
   "source": [
    "def policy(a, b):\n",
    "    if(random.random() < e_soft):\n",
    "        return random.choice([-1, 1])\n",
    "    if(a > b):\n",
    "        return -1\n",
    "    elif (b > a):\n",
    "        return 1\n",
    "    else:\n",
    "        return random.choice([-1, 1])"
   ]
  },
  {
   "cell_type": "code",
   "execution_count": null,
   "metadata": {
    "scrolled": true
   },
   "outputs": [],
   "source": [
    "for x in range(episodes):\n",
    "    while(reward[state] != 0):\n",
    "        if(state == 0):\n",
    "            decision = policy(value[size_of_maze - 1], value[state + 1])\n",
    "            state_prime = state\n",
    "            if (decision == -1):\n",
    "                state = size_of_maze - 1\n",
    "            else:\n",
    "                state = state + decision\n",
    "        elif(state == size_of_maze - 1):\n",
    "            decision = policy(value[state - 1], value[0])\n",
    "            state_prime = state\n",
    "            if (decision == 1):\n",
    "                state = 0\n",
    "            else:\n",
    "                state = state + decision\n",
    "        else:\n",
    "            decision = policy(value[state - 1], value[state + 1])\n",
    "            state_prime = state\n",
    "            state = state + decision\n",
    "        error = (reward[state_prime] + discount * value[state]) - value[state_prime]\n",
    "        value[state_prime] += alpha * error\n",
    "    error = reward[state] - value[state]\n",
    "    value[state] = reward[state]\n",
    "    value[state_prime] += alpha * error\n",
    "    start_location = randint(0, size_of_maze - 1)\n",
    "    state = start_location\n",
    "    state_prime = state\n",
    "    print(\"Episode:\", x+1, \"done!\")"
   ]
  },
  {
   "cell_type": "code",
   "execution_count": null,
   "metadata": {},
   "outputs": [],
   "source": [
    "position = np.arange(size_of_maze)\n",
    "plt.plot(position, value)"
   ]
  },
  {
   "cell_type": "code",
   "execution_count": null,
   "metadata": {},
   "outputs": [],
   "source": [
    "def find_goal(start_location):\n",
    "    state = start_location\n",
    "    steps = 0\n",
    "    while(reward[state] != 0):\n",
    "        if(state == 0):\n",
    "            decision = policy(value[size_of_maze - 1], value[state + 1])\n",
    "            if (decision == -1):\n",
    "                state = size_of_maze - 1\n",
    "            else:\n",
    "                state = state + decision\n",
    "        elif(state == size_of_maze - 1):\n",
    "            decision = policy(value[state - 1], value[0])\n",
    "            if (decision == 1):\n",
    "                state = 0\n",
    "            else:\n",
    "                state = state + decision\n",
    "        else:\n",
    "            decision = policy(value[state - 1], value[state + 1])\n",
    "            state_prime = state\n",
    "            state = state + decision\n",
    "        steps += 1\n",
    "    print(\"Goal found  in:\", steps, \"steps!\")"
   ]
  },
  {
   "cell_type": "code",
   "execution_count": null,
   "metadata": {
    "scrolled": true
   },
   "outputs": [],
   "source": [
    "find_goal(999)"
   ]
  },
  {
   "cell_type": "code",
   "execution_count": null,
   "metadata": {},
   "outputs": [],
   "source": []
  },
  {
   "cell_type": "code",
   "execution_count": null,
   "metadata": {},
   "outputs": [],
   "source": []
  },
  {
   "cell_type": "code",
   "execution_count": null,
   "metadata": {},
   "outputs": [],
   "source": []
  }
 ],
 "metadata": {
  "kernelspec": {
   "display_name": "Python 3",
   "language": "python",
   "name": "python3"
  },
  "language_info": {
   "codemirror_mode": {
    "name": "ipython",
    "version": 3
   },
   "file_extension": ".py",
   "mimetype": "text/x-python",
   "name": "python",
   "nbconvert_exporter": "python",
   "pygments_lexer": "ipython3",
   "version": "3.6.7"
  }
 },
 "nbformat": 4,
 "nbformat_minor": 2
}
