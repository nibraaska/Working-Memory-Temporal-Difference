{
 "cells": [
  {
   "cell_type": "code",
   "execution_count": null,
   "metadata": {},
   "outputs": [],
   "source": [
    "import math\n",
    "import numpy as np\n",
    "import random\n",
    "%matplotlib inline\n",
    "from matplotlib import pyplot as plt"
   ]
  },
  {
   "cell_type": "code",
   "execution_count": null,
   "metadata": {},
   "outputs": [],
   "source": [
    "goal_state = 500\n",
    "size_of_maze = 1000\n",
    "episodes = 1000\n",
    "discount = 0.99\n",
    "alpha = 0.2\n",
    "e_soft = 0.1\n",
    "\n",
    "n = 8192\n",
    "mean = 0\n",
    "sigma = 1 / math.sqrt(n)\n",
    "\n",
    "inputs = n\n",
    "ouputs = 1\n",
    "\n",
    "reward_bad = -1\n",
    "reward_good = 0"
   ]
  },
  {
   "cell_type": "code",
   "execution_count": null,
   "metadata": {},
   "outputs": [],
   "source": [
    "state_hrrs = np.random.normal(mean, sigma, size=[size_of_maze, n])"
   ]
  },
  {
   "cell_type": "code",
   "execution_count": null,
   "metadata": {},
   "outputs": [],
   "source": [
    "def find_goal(state_hrr, start_location):\n",
    "    state = start_location\n",
    "    steps = 0\n",
    "    while(state != goal_state):\n",
    "        if(state == 0):\n",
    "            decision = policy(nn.feedforward(state_hrrs[size_of_maze-1]), nn.feedforward(state_hrrs[state+1]), 0)\n",
    "            if(decision == -1):\n",
    "                state = size_of_maze-1\n",
    "            else:\n",
    "                state = state + decision\n",
    "        elif(state == size_of_maze - 1):\n",
    "            decision = policy(nn.feedforward(state_hrrs[state-1]), nn.feedforward(state_hrrs[0]), 0)\n",
    "            if(decision == -1):\n",
    "                state = state + decision\n",
    "            else:\n",
    "                state_prime = state\n",
    "                state = 0\n",
    "        else:\n",
    "            decision = policy(nn.feedforward(state_hrrs[state-1]), nn.feedforward(state_hrrs[state+1]), 0)\n",
    "            state = state + decision\n",
    "        steps += 1\n",
    "    return steps"
   ]
  },
  {
   "cell_type": "code",
   "execution_count": null,
   "metadata": {},
   "outputs": [],
   "source": [
    "class NeuralNetwork:\n",
    "    def __init__(self, inputs, outputs, discount, alpha):\n",
    "        self.discount = discount\n",
    "        self.alpha = alpha\n",
    "        self.input = inputs\n",
    "        self.output = outputs\n",
    "        self.weights = np.random.randn(outputs, inputs)\n",
    "        self.bias = 1\n",
    "        \n",
    "    def feedforward(self, X):\n",
    "        self.output = np.dot(self.weights, X) + self.bias\n",
    "        return self.output\n",
    "    \n",
    "    def backprop(self, state_prime_hrr, state_hrr, y):\n",
    "        self.error = (y + self.discount * self.feedforward(state_hrr)) - self.feedforward(state_prime_hrr)\n",
    "        self.weights = np.add(self.weights, (self.alpha * self.error * state_prime_hrr))"
   ]
  },
  {
   "cell_type": "code",
   "execution_count": null,
   "metadata": {},
   "outputs": [],
   "source": [
    "def policy(a, b, rand_on):\n",
    "    if((np.random.random() < e_soft) and (rand_on == 1)):\n",
    "        return np.random.choice([-1, 1])\n",
    "    if(a > b):\n",
    "        return -1\n",
    "    elif (b > a):\n",
    "        return 1\n",
    "    else:\n",
    "        return np.random.choice([-1, 1])"
   ]
  },
  {
   "cell_type": "code",
   "execution_count": null,
   "metadata": {},
   "outputs": [],
   "source": [
    "nn = NeuralNetwork(n, 1, discount, alpha)\n",
    "state = random.randint(0, size_of_maze - 1)\n",
    "state_prime = state\n",
    "\n",
    "for x in range(episodes):\n",
    "        while(state != goal_state):\n",
    "            if(state == 0):\n",
    "                decision = policy(nn.feedforward(state_hrrs[size_of_maze-1]), nn.feedforward(state_hrrs[state+1]), 1)\n",
    "                if(decision == -1):\n",
    "                    state_prime = state\n",
    "                    state = size_of_maze-1\n",
    "                else:\n",
    "                    state_prime = state\n",
    "                    state = state + decision\n",
    "            elif(state == size_of_maze - 1):\n",
    "                decision = policy(nn.feedforward(state_hrrs[state-1]), nn.feedforward(state_hrrs[0]), 1)\n",
    "                if(decision == -1):\n",
    "                    state_prime = state\n",
    "                    state = state + decision\n",
    "                else:\n",
    "                    state_prime = state\n",
    "                    state = 0\n",
    "            else:\n",
    "                decision = policy(nn.feedforward(state_hrrs[state-1]), nn.feedforward(state_hrrs[state+1]), 1)\n",
    "                state_prime = state\n",
    "                state = state + decision\n",
    "            nn.backprop(state_hrrs[state_prime], state_hrrs[state], reward_bad)\n",
    "        nn.backprop(state_hrrs[state_prime], state_hrrs[state], reward_good)\n",
    "        state = random.randint(0, size_of_maze - 1)\n",
    "        state_prime = state\n",
    "        print(\"Episode\", x+1, \"done\")\n",
    "           "
   ]
  },
  {
   "cell_type": "code",
   "execution_count": null,
   "metadata": {
    "scrolled": true
   },
   "outputs": [],
   "source": [
    "value = np.zeros(size_of_maze)\n",
    "for x in range(size_of_maze):\n",
    "    value[x] = nn.feedforward(state_hrrs[x])\n",
    "position = np.arange(size_of_maze)\n",
    "plt.plot(position, value)"
   ]
  },
  {
   "cell_type": "code",
   "execution_count": null,
   "metadata": {},
   "outputs": [],
   "source": [
    "find_goal(state_hrrs[400], 400)"
   ]
  }
 ],
 "metadata": {
  "kernelspec": {
   "display_name": "Python 3",
   "language": "python",
   "name": "python3"
  },
  "language_info": {
   "codemirror_mode": {
    "name": "ipython",
    "version": 3
   },
   "file_extension": ".py",
   "mimetype": "text/x-python",
   "name": "python",
   "nbconvert_exporter": "python",
   "pygments_lexer": "ipython3",
   "version": "3.6.5"
  }
 },
 "nbformat": 4,
 "nbformat_minor": 2
}
