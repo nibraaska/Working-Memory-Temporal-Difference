{
 "cells": [
  {
   "cell_type": "code",
   "execution_count": null,
   "metadata": {},
   "outputs": [],
   "source": [
    "import math\n",
    "import numpy as np\n",
    "import random\n",
    "%matplotlib inline\n",
    "from matplotlib import pyplot as plt"
   ]
  },
  {
   "cell_type": "code",
   "execution_count": null,
   "metadata": {},
   "outputs": [],
   "source": [
    "# Creating hrrs\n",
    "def hrr(length, normalized=False):\n",
    "    if normalized:\n",
    "        x = np.random.uniform(-np.pi,np.pi,int((length-1)/2))\n",
    "        if length % 2:\n",
    "            x = np.real(np.fft.ifft(np.concatenate([np.ones(1), np.exp(1j*x), np.exp(-1j*x[::-1])])))\n",
    "        else:\n",
    "            x = np.real(np.fft.ifft(np.concatenate([np.ones(1), np.exp(1j*x), np.ones(1), np.exp(-1j*x[::-1])])))\n",
    "    else:\n",
    "        x = np.random.normal(0.0, 1.0/np.sqrt(length), length)\n",
    "    return x"
   ]
  },
  {
   "cell_type": "code",
   "execution_count": null,
   "metadata": {},
   "outputs": [],
   "source": [
    "# Convolve two hrrs\n",
    "def convolve(x, y):\n",
    "    return np.real(np.fft.ifft(np.fft.fft(x)*np.fft.fft(y)))\n",
    "\n",
    "# Pre convolve all hrrs to save time\n",
    "def preconvolve():\n",
    "    preconvolved_matrix = np.zeros([possible_wm.size, size_of_maze, n])\n",
    "    for x in range(len(goal_states)):\n",
    "        for y in range(size_of_maze):\n",
    "            preconvolved_matrix[x][y] = convolve(possible_wm[x], state_hrrs[y])\n",
    "    return preconvolved_matrix"
   ]
  },
  {
   "cell_type": "code",
   "execution_count": null,
   "metadata": {},
   "outputs": [],
   "source": [
    "# Switching between tasks\n",
    "def switch_task(count):\n",
    "    if count < 9:\n",
    "        goal = goal_states[0]\n",
    "        count += 1\n",
    "    elif count == 9:\n",
    "        goal = goal_states[1]\n",
    "        count += 1\n",
    "    elif count > 9 and count < 19:\n",
    "        goal = goal_states[1]\n",
    "        count += 1\n",
    "    elif count == 19:\n",
    "        goal = goal_states[0]\n",
    "        count = 0\n",
    "    return goal, count"
   ]
  }
 ],
 "metadata": {
  "kernelspec": {
   "display_name": "Python 3",
   "language": "python",
   "name": "python3"
  },
  "language_info": {
   "codemirror_mode": {
    "name": "ipython",
    "version": 3
   },
   "file_extension": ".py",
   "mimetype": "text/x-python",
   "name": "python",
   "nbconvert_exporter": "python",
   "pygments_lexer": "ipython3",
   "version": "3.6.7"
  }
 },
 "nbformat": 4,
 "nbformat_minor": 2
}
