{
 "cells": [
  {
   "cell_type": "code",
   "execution_count": null,
   "metadata": {},
   "outputs": [],
   "source": [
    "import math\n",
    "import numpy as np\n",
    "import random\n",
    "%matplotlib inline\n",
    "from matplotlib import pyplot as plt"
   ]
  },
  {
   "cell_type": "code",
   "execution_count": null,
   "metadata": {},
   "outputs": [],
   "source": [
    "class holographic_reduced_representations:\n",
    "    \n",
    "    def __init__(self, length):\n",
    "        self.length = length\n",
    "        \n",
    "    # Creating hrrs\n",
    "    def hrr(self, normalized=False):\n",
    "        if normalized:\n",
    "            x = np.random.uniform(-np.pi,np.pi,int((self.length-1)/2))\n",
    "            if self.length % 2:\n",
    "                x = np.real(np.fft.ifft(np.concatenate([np.ones(1), np.exp(1j*x), np.exp(-1j*x[::-1])])))\n",
    "            else:\n",
    "                x = np.real(np.fft.ifft(np.concatenate([np.ones(1), np.exp(1j*x), np.ones(1), np.exp(-1j*x[::-1])])))\n",
    "        else:\n",
    "            x = np.random.normal(0.0, 1.0/np.sqrt(self.length), self.length)\n",
    "        return x\n",
    "    \n",
    "    # Creates an array of hrrs of size size_of_array x size_of_hrrs\n",
    "    def hrr_array(self, size_of_array, normalized=False):\n",
    "        hrr_arr = np.zeros([size_of_array, self.length])\n",
    "        for x in range(size_of_array):\n",
    "            hrr_arr[x] = self.hrr(normalized)\n",
    "        return hrr_arr\n",
    "    \n",
    "    # Convolve two hrrs\n",
    "    def convolve(self, x, y):\n",
    "        return np.real(np.fft.ifft(np.fft.fft(x)*np.fft.fft(y)))\n",
    "\n",
    "    # Preconvolve all hrrs to save time\n",
    "    def preconvolve(self, possible_wm, possible_signals, state_hrrs):\n",
    "        preconvolved_matrix = np.zeros([possible_wm.size, possible_signals.size, state_hrrs.size, self.length])\n",
    "        for x in range(len(possible_wm)):\n",
    "            for y in range(len(possible_signals)):\n",
    "                for z in range(len(state_hrrs)):\n",
    "                    preconvolved_matrix[x][y][z] = self.convolve(self.convolve(possible_wm[x], possible_signals[y]), state_hrrs[z])\n",
    "        return preconvolved_matrix"
   ]
  },
  {
   "cell_type": "code",
   "execution_count": null,
   "metadata": {},
   "outputs": [],
   "source": [
    "hrrs = holographic_reduced_representations(5)\n"
   ]
  }
 ],
 "metadata": {
  "kernelspec": {
   "display_name": "Python 3",
   "language": "python",
   "name": "python3"
  },
  "language_info": {
   "codemirror_mode": {
    "name": "ipython",
    "version": 3
   },
   "file_extension": ".py",
   "mimetype": "text/x-python",
   "name": "python",
   "nbconvert_exporter": "python",
   "pygments_lexer": "ipython3",
   "version": "3.6.5"
  }
 },
 "nbformat": 4,
 "nbformat_minor": 2
}
