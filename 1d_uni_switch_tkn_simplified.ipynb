{
 "cells": [
  {
   "cell_type": "code",
   "execution_count": null,
   "metadata": {},
   "outputs": [],
   "source": [
    "import math\n",
    "import numpy as np\n",
    "import random\n",
    "%matplotlib inline\n",
    "from matplotlib import pyplot as plt"
   ]
  },
  {
   "cell_type": "code",
   "execution_count": null,
   "metadata": {},
   "outputs": [],
   "source": [
    "# Creating hrrs\n",
    "def hrr(length, normalized=False):\n",
    "    if normalized:\n",
    "        x = np.random.uniform(-np.pi,np.pi,int((length-1)/2))\n",
    "        if length % 2:\n",
    "            x = np.real(np.fft.ifft(np.concatenate([np.ones(1), np.exp(1j*x), np.exp(-1j*x[::-1])])))\n",
    "        else:\n",
    "            x = np.real(np.fft.ifft(np.concatenate([np.ones(1), np.exp(1j*x), np.ones(1), np.exp(-1j*x[::-1])])))\n",
    "    else:\n",
    "        x = np.random.normal(0.0, 1.0/np.sqrt(length), length)\n",
    "    return x"
   ]
  },
  {
   "cell_type": "code",
   "execution_count": null,
   "metadata": {},
   "outputs": [],
   "source": [
    "# Convolve two hrrs\n",
    "def convolve(x, y):\n",
    "    return np.real(np.fft.ifft(np.fft.fft(x)*np.fft.fft(y)))\n",
    "\n",
    "# Pre convolve all hrrs to save time\n",
    "def preconvolve():\n",
    "    preconvolved_matrix = np.zeros([possible_wm.size, size_of_maze, n])\n",
    "    for x in range(len(possible_wm)):\n",
    "        for y in range(size_of_maze):\n",
    "            preconvolved_matrix[x][y] = convolve(possible_wm[x], state_hrrs[y])\n",
    "    return preconvolved_matrix"
   ]
  },
  {
   "cell_type": "code",
   "execution_count": null,
   "metadata": {},
   "outputs": [],
   "source": [
    "# Policy for choosing left or right\n",
    "def policy_mov(state_left, state_right, wm, rand_on):\n",
    "    value_left_state_wm = nn.feedforward(preconvolved_matrix[wm][state_left])\n",
    "    value_right_state_wm = nn.feedforward(preconvolved_matrix[wm][state_right])\n",
    "    if((np.random.random() < e_soft) and (rand_on == 1)):\n",
    "        return np.random.choice([-1, 1])\n",
    "    max_value = max(value_left_state_wm, value_right_state_wm)\n",
    "    if(max_value == value_left_state_wm):\n",
    "        return -1\n",
    "    elif(max_value == value_right_state_wm):\n",
    "        return 1\n",
    "    \n",
    "# Switching wm depending on td error\n",
    "def policy_switch(state, wm, color, error):\n",
    "    return (wm + 1)%2"
   ]
  },
  {
   "cell_type": "code",
   "execution_count": null,
   "metadata": {},
   "outputs": [],
   "source": [
    "# Size of hrrs\n",
    "n = 1024\n",
    "\n",
    "# Maze creation\n",
    "size_of_maze = 4\n",
    "\n",
    "# Setting goals\n",
    "goal_states = random.sample(range(0, size_of_maze), 2)\n",
    "\n",
    "# Creating all hrrs\n",
    "state_hrrs = np.asarray([hrr(n, True)] * size_of_maze)\n",
    "possible_wm = np.asarray([hrr(n, True)] * len(goal_states))\n",
    "reward_tkn = hrr(n, True)\n",
    "\n",
    "# Pre convolve hrrs to save time\n",
    "preconvolved_matrix = preconvolve()\n",
    "\n",
    "# Weights and bias of neural network\n",
    "weights = hrr(n, True)\n",
    "bias = 0\n",
    "\n",
    "# Reward for learning\n",
    "reward_bad = 0\n",
    "reward_good = 1\n",
    "\n",
    "# Discounted future rewards\n",
    "discount = 0.5\n",
    "\n",
    "# Learning rate\n",
    "alpha = 0.01\n",
    "\n",
    "# Exploration rate\n",
    "e_soft = 0.01\n",
    "\n",
    "# Treshold to switch wm\n",
    "threshold = -0.35\n",
    "\n",
    "# Number of training cycles\n",
    "episodes = 1000\n",
    "\n",
    "# Steps to try finding the goal before quiting\n",
    "steps_till_quit = 100\n",
    "\n",
    "# For switching tasks\n",
    "count = 0"
   ]
  },
  {
   "cell_type": "code",
   "execution_count": null,
   "metadata": {},
   "outputs": [],
   "source": [
    "for x in range(episodes):\n",
    "    \n",
    "    # Current state\n",
    "    state = random.randint(0, size_of_maze - 1)\n",
    "    \n",
    "    count += 1\n",
    "    # Switching tasks\n",
    "    goal_state = goal_states[0] if count == 1 or count == 21 else goal_states[1] if count == 11 else goal_state\n",
    "    # Resetting count\n",
    "    if count == 21: count = 1\n",
    "\n",
    "    # wm is set to first\n",
    "    wm = 0\n",
    "\n",
    "    \n",
    "    for x in range (steps_till_quit):\n",
    "        pass"
   ]
  },
  {
   "cell_type": "code",
   "execution_count": null,
   "metadata": {},
   "outputs": [],
   "source": []
  },
  {
   "cell_type": "code",
   "execution_count": null,
   "metadata": {},
   "outputs": [],
   "source": []
  },
  {
   "cell_type": "code",
   "execution_count": null,
   "metadata": {},
   "outputs": [],
   "source": []
  }
 ],
 "metadata": {
  "kernelspec": {
   "display_name": "Python 3",
   "language": "python",
   "name": "python3"
  },
  "language_info": {
   "codemirror_mode": {
    "name": "ipython",
    "version": 3
   },
   "file_extension": ".py",
   "mimetype": "text/x-python",
   "name": "python",
   "nbconvert_exporter": "python",
   "pygments_lexer": "ipython3",
   "version": "3.6.7"
  }
 },
 "nbformat": 4,
 "nbformat_minor": 2
}
