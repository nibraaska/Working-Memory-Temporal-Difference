{
 "cells": [
  {
   "cell_type": "code",
   "execution_count": 1,
   "metadata": {},
   "outputs": [],
   "source": [
    "import math\n",
    "import numpy as np\n",
    "import random\n",
    "%matplotlib inline\n",
    "from matplotlib import pyplot as plt"
   ]
  },
  {
   "cell_type": "code",
   "execution_count": 2,
   "metadata": {},
   "outputs": [],
   "source": [
    "# Creating hrrs\n",
    "def hrr(length, normalized=False):\n",
    "    if normalized:\n",
    "        x = np.random.uniform(-np.pi,np.pi,int((length-1)/2))\n",
    "        if length % 2:\n",
    "            x = np.real(np.fft.ifft(np.concatenate([np.ones(1), np.exp(1j*x), np.exp(-1j*x[::-1])])))\n",
    "        else:\n",
    "            x = np.real(np.fft.ifft(np.concatenate([np.ones(1), np.exp(1j*x), np.ones(1), np.exp(-1j*x[::-1])])))\n",
    "    else:\n",
    "        x = np.random.normal(0.0, 1.0/np.sqrt(length), length)\n",
    "    return x"
   ]
  },
  {
   "cell_type": "code",
   "execution_count": 3,
   "metadata": {},
   "outputs": [],
   "source": [
    "# Convolve two hrrs\n",
    "def convolve(x, y):\n",
    "    return np.real(np.fft.ifft(np.fft.fft(x)*np.fft.fft(y)))\n",
    "\n",
    "# Pre convolve all hrrs to save time\n",
    "def preconvolve():\n",
    "    preconvolved_matrix = np.zeros([possible_wm.size, size_of_maze, n])\n",
    "    for x in range(len(goal_states)):\n",
    "        for y in range(size_of_maze):\n",
    "            preconvolved_matrix[x][y] = convolve(possible_wm[x], state_hrrs[y])\n",
    "    return preconvolved_matrix"
   ]
  },
  {
   "cell_type": "code",
   "execution_count": 4,
   "metadata": {},
   "outputs": [],
   "source": [
    "# Switching between tasks\n",
    "def switch_task(count):\n",
    "    if count < 9:\n",
    "        goal = goal_states[0]\n",
    "        count += 1\n",
    "    elif count == 9:\n",
    "        goal = goal_states[1]\n",
    "        count += 1\n",
    "    elif count > 9 and count < 19:\n",
    "        goal = goal_states[1]\n",
    "        count += 1\n",
    "    elif count == 19:\n",
    "        goal = goal_states[0]\n",
    "        count = 0\n",
    "    return goal, count"
   ]
  },
  {
   "cell_type": "code",
   "execution_count": 5,
   "metadata": {},
   "outputs": [],
   "source": [
    "# Neural network class for wm\n",
    "class NeuralNetwork:\n",
    "    def __init__(self, inputs, outputs, discount, alpha):\n",
    "        self.discount = discount\n",
    "        self.alpha = alpha\n",
    "        self.input = inputs\n",
    "        self.output = outputs\n",
    "        self.weights = hrr(n, True)\n",
    "        self.bias = 0\n",
    "        \n",
    "    # To get value of each state through weights\n",
    "    def feedforward(self, X):\n",
    "        self.output = np.dot(self.weights, X) + self.bias\n",
    "        return self.output\n",
    "    \n",
    "    # Backprop to update weights\n",
    "    def backprop(self, state_prime_hrr, state_hrr, wm, y):\n",
    "        \n",
    "        # Update for reward found\n",
    "        if(y == reward_good):\n",
    "            self.error = (reward_bad + self.discount * self.feedforward(state_hrr)) - self.feedforward(state_prime_hrr)\n",
    "            self.weights = np.add(self.weights, (self.alpha * self.error * state_prime_hrr))\n",
    "            self.error = reward_good - self.feedforward(state_hrr)\n",
    "            self.weights = np.add(self.weights, (self.alpha * self.error * state_hrr))\n",
    "            \n",
    "        # Reward not found    \n",
    "        else:\n",
    "            self.error = (reward_bad + self.discount * self.feedforward(state_hrr)) - self.feedforward(state_prime_hrr)\n",
    "            # Switch wm if error too large\n",
    "            if self.error < threshold:\n",
    "                return policy_switch(wm)\n",
    "            self.weights = np.add(self.weights, (self.alpha * self.error * state_prime_hrr))\n",
    "        return wm"
   ]
  },
  {
   "cell_type": "code",
   "execution_count": 6,
   "metadata": {},
   "outputs": [],
   "source": [
    "# Policy for choosing left or right\n",
    "def policy_mov(state, wm, rand_on):\n",
    "    \n",
    "    # Calculates what the left and right positions on the maze are\n",
    "    if (state == 0):\n",
    "        state_left = size_of_maze - 1\n",
    "        state_right = state + 1\n",
    "    elif (state == size_of_maze - 1):\n",
    "        state_left = state - 1\n",
    "        state_right = 0\n",
    "    else:\n",
    "        state_left = state - 1\n",
    "        state_right = state + 1\n",
    "    \n",
    "    # Value of each move\n",
    "    value_left_state_wm = nn.feedforward(preconvolved_matrix[wm][state_left])\n",
    "    value_right_state_wm = nn.feedforward(preconvolved_matrix[wm][state_right])\n",
    "    \n",
    "    # Random move\n",
    "    if((np.random.random() < e_soft) and (rand_on == 1)):\n",
    "        return np.random.choice([state_left, state_right])\n",
    "    \n",
    "    # Finds best move\n",
    "    max_value = max(value_left_state_wm, value_right_state_wm)\n",
    "    \n",
    "    # Returns best move\n",
    "    if(max_value == value_left_state_wm):\n",
    "        return state_left\n",
    "    elif(max_value == value_right_state_wm):\n",
    "        return state_right\n",
    "    \n",
    "# Switching wm depending on td error\n",
    "def policy_switch(wm):\n",
    "    return (wm + 1)%2"
   ]
  },
  {
   "cell_type": "code",
   "execution_count": 7,
   "metadata": {},
   "outputs": [],
   "source": [
    "# Size of hrrs\n",
    "n = 2048\n",
    "\n",
    "# Maze creation\n",
    "size_of_maze = 8\n",
    "\n",
    "# Reward for learning\n",
    "reward_bad = 0\n",
    "reward_good = 1\n",
    "\n",
    "# Discounted future rewards\n",
    "discount = 0.5\n",
    "\n",
    "# Learning rate\n",
    "alpha = 0.03\n",
    "\n",
    "# Exploration on or off\n",
    "exp_on = 1\n",
    "\n",
    "# Exploration rate\n",
    "e_soft = 0.01\n",
    "\n",
    "# Treshold to switch wm\n",
    "threshold = -0.20\n",
    "\n",
    "# Number of training cycles\n",
    "episodes = 5000\n",
    "\n",
    "# Steps to try finding the goal before quiting\n",
    "steps_till_quit = 100\n",
    "\n",
    "# For switching tasks\n",
    "count = -1\n",
    "\n",
    "# Frequency to print information\n",
    "print_freq = 1000\n",
    "\n",
    "# wm is set to first\n",
    "wm = 0\n",
    "\n",
    "# Creating the neural net\n",
    "nn = NeuralNetwork(n, 1, discount, alpha)"
   ]
  },
  {
   "cell_type": "code",
   "execution_count": 8,
   "metadata": {},
   "outputs": [],
   "source": [
    "# Setting goals\n",
    "goal_states = random.sample(range(0, size_of_maze), 2)\n",
    "\n",
    "# Create all state hrrs\n",
    "state_hrrs = np.zeros([size_of_maze, n])\n",
    "for x in range(size_of_maze):\n",
    "    state_hrrs[x] = hrr(n, True)\n",
    "    \n",
    "# Create all wm hrrs\n",
    "possible_wm = np.zeros([len(goal_states), n])\n",
    "for x in range(len(goal_states)):\n",
    "    possible_wm[x] = hrr(n, True)\n",
    "\n",
    "# Reward hrr\n",
    "reward_tkn = hrr(n, True)\n",
    "\n",
    "# Pre convolve hrrs to save time\n",
    "preconvolved_matrix = preconvolve()"
   ]
  },
  {
   "cell_type": "code",
   "execution_count": 9,
   "metadata": {},
   "outputs": [
    {
     "name": "stdout",
     "output_type": "stream",
     "text": [
      "Goals: 0 7\n",
      "Episode 1000 done\n",
      "Episode 2000 done\n",
      "Episode 3000 done\n",
      "Episode 4000 done\n",
      "Episode 5000 done\n"
     ]
    }
   ],
   "source": [
    "print(\"Goals:\", goal_states[0], goal_states[1])\n",
    "for x in range(episodes):\n",
    "    \n",
    "    # Current state\n",
    "    current = random.randint(0, size_of_maze - 1)\n",
    "    \n",
    "    # Switching tasks\n",
    "    goal_state, count = switch_task(count)\n",
    "\n",
    "    for y in range (steps_till_quit):\n",
    "        \n",
    "        # Store info about previous state\n",
    "        previous = current\n",
    "        previous_state = preconvolved_matrix[wm][previous]\n",
    "        previous_value = nn.feedforward(previous_state)\n",
    "        \n",
    "        # What state to move into\n",
    "        move = policy_mov(current, wm, exp_on)\n",
    "        \n",
    "        # Make the move\n",
    "        current = move\n",
    "        current_state = preconvolved_matrix[wm][current]\n",
    "        current_value = nn.feedforward(current_state)\n",
    "              \n",
    "        # Goal reached\n",
    "        if (current == goal_state):\n",
    "            # Get temporal difference error and update weights of neural network\n",
    "            nn.backprop(previous_state, convolve(reward_tkn, current_state), wm, reward_good)\n",
    "            break\n",
    "\n",
    "        # Weight update for goal not found\n",
    "        wm = nn.backprop(previous_state, current_state, wm, reward_bad)\n",
    "        \n",
    "    if (x+1)%print_freq == 0:\n",
    "        print(\"Episode\", x+1, \"done\")"
   ]
  },
  {
   "cell_type": "code",
   "execution_count": 10,
   "metadata": {},
   "outputs": [
    {
     "name": "stdout",
     "output_type": "stream",
     "text": [
      "1.0011187777217776\n"
     ]
    },
    {
     "data": {
      "image/png": "[encoded data removed]",
      "text/plain": [
       "<Figure size 432x288 with 1 Axes>"
      ]
     },
     "metadata": {
      "needs_background": "light"
     },
     "output_type": "display_data"
    }
   ],
   "source": [
    "position = np.arange(size_of_maze)\n",
    "value = np.zeros(size_of_maze)\n",
    "for z in range (size_of_maze):\n",
    "    if z == goal_states[0]:\n",
    "        value[z] = nn.feedforward(convolve(reward_tkn, preconvolved_matrix[0][z]))\n",
    "    else:\n",
    "        value[z] = nn.feedforward(preconvolved_matrix[0][z])\n",
    "plt.plot(position, value)\n",
    "print(np.amax(value))"
   ]
  },
  {
   "cell_type": "code",
   "execution_count": 11,
   "metadata": {},
   "outputs": [
    {
     "name": "stdout",
     "output_type": "stream",
     "text": [
      "0.999376751161136\n"
     ]
    },
    {
     "data": {
      "image/png": "[encoded data removed]",
      "text/plain": [
       "<Figure size 432x288 with 1 Axes>"
      ]
     },
     "metadata": {
      "needs_background": "light"
     },
     "output_type": "display_data"
    }
   ],
   "source": [
    "position = np.arange(size_of_maze)\n",
    "value = np.zeros(size_of_maze)\n",
    "for z in range (size_of_maze):\n",
    "    if z == goal_states[1]:\n",
    "        value[z] = nn.feedforward(convolve(reward_tkn, preconvolved_matrix[1][z]))\n",
    "    else:\n",
    "        value[z] = nn.feedforward(preconvolved_matrix[1][z])\n",
    "plt.plot(position, value)\n",
    "print(np.amax(value))"
   ]
  }
 ],
 "metadata": {
  "kernelspec": {
   "display_name": "Python 3",
   "language": "python",
   "name": "python3"
  },
  "language_info": {
   "codemirror_mode": {
    "name": "ipython",
    "version": 3
   },
   "file_extension": ".py",
   "mimetype": "text/x-python",
   "name": "python",
   "nbconvert_exporter": "python",
   "pygments_lexer": "ipython3",
   "version": "3.6.7"
  }
 },
 "nbformat": 4,
 "nbformat_minor": 2
}
