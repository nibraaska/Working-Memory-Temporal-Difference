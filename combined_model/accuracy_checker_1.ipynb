{
 "cells": [
  {
   "cell_type": "code",
   "execution_count": 1,
   "metadata": {},
   "outputs": [],
   "source": [
    "import numpy as np\n",
    "import random\n",
    "import time, sys\n",
    "from IPython.display import clear_output"
   ]
  },
  {
   "cell_type": "code",
   "execution_count": null,
   "metadata": {},
   "outputs": [
    {
     "name": "stdout",
     "output_type": "stream",
     "text": [
      "Episode 97630, Progress: [=================================================.] 97.6%\n"
     ]
    }
   ],
   "source": [
    "arr_store = []\n",
    "\n",
    "f = open(\"checker_1.txt\", \"w+\")\n",
    "\n",
    "for x in range(50):\n",
    "    \n",
    "    seed = x\n",
    "    \n",
    "    %run updated_combined.ipynb\n",
    "    \n",
    "    arr_store += [accuracy]\n",
    "    \n",
    "    f.write(\"Run: {0}, Accuracy: {1}\\n\".format(seed, accuracy))\n",
    "    f.flush()\n",
    "    \n",
    "f.close()"
   ]
  },
  {
   "cell_type": "code",
   "execution_count": null,
   "metadata": {},
   "outputs": [],
   "source": []
  },
  {
   "cell_type": "code",
   "execution_count": null,
   "metadata": {},
   "outputs": [],
   "source": []
  }
 ],
 "metadata": {
  "kernelspec": {
   "display_name": "research",
   "language": "python",
   "name": "research"
  },
  "language_info": {
   "codemirror_mode": {
    "name": "ipython",
    "version": 3
   },
   "file_extension": ".py",
   "mimetype": "text/x-python",
   "name": "python",
   "nbconvert_exporter": "python",
   "pygments_lexer": "ipython3",
   "version": "3.7.4"
  }
 },
 "nbformat": 4,
 "nbformat_minor": 2
}
