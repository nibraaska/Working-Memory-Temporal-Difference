{
 "cells": [
  {
   "cell_type": "code",
   "execution_count": 4,
   "metadata": {},
   "outputs": [],
   "source": [
    "import hrr\n",
    "import numpy as np\n",
    "from agent import agent\n",
    "from maze import maze\n",
    "from neural_network import NeuralNetwork"
   ]
  },
  {
   "cell_type": "code",
   "execution_count": 5,
   "metadata": {},
   "outputs": [],
   "source": [
    "# Number of training cycles\n",
    "episodes = 1000\n",
    "\n",
    "# Hrr lengths\n",
    "hrr_length = 1024\n",
    "\n",
    "# How many steps to take before quiting\n",
    "steps_till_quit = 100\n",
    "\n",
    "# Arguments for maze\n",
    "size_of_maze = 5\n",
    "non_obs_task_switch_rate = 12\n",
    "num_non_obs_tasks = 3\n",
    "num_obs_tasks = 3\n",
    "goals = [[0,2,1], [1,0,2],[2,1,0]]\n",
    "# random goal setting\n",
    "# np.random.randint(size_of_maze, size=(num_non_obs_tasks, num_obs_tasks))\n",
    "\n",
    "# Arguments for neural network\n",
    "input_size = hrr_length\n",
    "output_size = 1\n",
    "bias = 1\n",
    "discount = 0.9\n",
    "alpha = 0.01\n",
    "\n",
    "# Reward for temporal difference learning\n",
    "reward_bad = 0\n",
    "reward_good = 1\n",
    "\n",
    "# Expolration rate\n",
    "e_soft = 0.01\n",
    "\n",
    "# Threshold for non observable task switching\n",
    "threshold = -0.2\n",
    "\n",
    "# Print frequency\n",
    "p_freq = 100\n",
    "\n",
    "# Eligibility trace\n",
    "eligibility = [0] * hrr_length\n",
    "\n",
    "# Eligibility trace rate\n",
    "eli_lambda = 0.9"
   ]
  },
  {
   "cell_type": "code",
   "execution_count": 6,
   "metadata": {},
   "outputs": [],
   "source": [
    "agent = agent()\n",
    "maze = maze(size_of_maze, non_obs_task_switch_rate, num_non_obs_tasks, num_obs_tasks, goals)\n",
    "nn = NeuralNetwork(input_size, output_size, bias, discount, alpha)"
   ]
  }
 ],
 "metadata": {
  "kernelspec": {
   "display_name": "Python 3",
   "language": "python",
   "name": "python3"
  },
  "language_info": {
   "codemirror_mode": {
    "name": "ipython",
    "version": 3
   },
   "file_extension": ".py",
   "mimetype": "text/x-python",
   "name": "python",
   "nbconvert_exporter": "python",
   "pygments_lexer": "ipython3",
   "version": "3.6.7"
  }
 },
 "nbformat": 4,
 "nbformat_minor": 2
}
