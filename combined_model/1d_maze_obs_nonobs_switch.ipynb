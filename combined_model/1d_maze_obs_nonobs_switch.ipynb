{
 "cells": [
  {
   "cell_type": "code",
   "execution_count": null,
   "metadata": {},
   "outputs": [],
   "source": [
    "import numpy as np\n",
    "from agent import *\n",
    "from maze import *\n",
    "from neural_network import *\n",
    "from hrr import *"
   ]
  },
  {
   "cell_type": "code",
   "execution_count": null,
   "metadata": {},
   "outputs": [],
   "source": [
    "# Number of training cycles\n",
    "episodes = 1000\n",
    "\n",
    "# Hrr parameters\n",
    "hrr_length = 2048\n",
    "normalized = True\n",
    "\n",
    "# How many steps to take before quiting\n",
    "steps_till_quit = 100\n",
    "\n",
    "# Maze parameters\n",
    "size_of_maze = 5\n",
    "non_obs_task_switch_rate = 12\n",
    "num_non_obs_tasks = 3\n",
    "num_obs_tasks = 3\n",
    "goals = [[0,2,1], [1,0,2],[2,1,0]]\n",
    "signals = [\"red\", \"green\", \"blue\"]\n",
    "# random goal setting\n",
    "# goals = np.stack([np.random.choice(range(size_of_maze), num_non_obs_tasks, replace=False) for _ in range(num_obs_tasks)])\n",
    "\n",
    "# Arguments for neural network\n",
    "input_size = hrr_length\n",
    "output_size = 1\n",
    "bias = 1\n",
    "discount = 0.9\n",
    "alpha = 0.01\n",
    "\n",
    "# Reward for temporal difference learning\n",
    "reward_bad = 0\n",
    "reward_good = 1\n",
    "\n",
    "# Expolration rate\n",
    "e_soft = 0.01\n",
    "\n",
    "# Threshold for non observable task switching\n",
    "threshold = -0.2\n",
    "\n",
    "# Print frequency\n",
    "p_freq = 100\n",
    "\n",
    "# Eligibility trace\n",
    "eligibility = [0] * hrr_length\n",
    "\n",
    "# Eligibility trace rate\n",
    "eli_lambda = 0.9\n",
    "\n",
    "wm = 0"
   ]
  },
  {
   "cell_type": "code",
   "execution_count": null,
   "metadata": {},
   "outputs": [],
   "source": [
    "agent = agent()\n",
    "maze = maze(size_of_maze, non_obs_task_switch_rate, num_non_obs_tasks, num_obs_tasks, goals)\n",
    "nn = NeuralNetwork(input_size, output_size, bias, discount, alpha)\n",
    "ltm = LTM(\"hrrs_1\", hrr_length, normalized)"
   ]
  },
  {
   "cell_type": "code",
   "execution_count": null,
   "metadata": {},
   "outputs": [],
   "source": [
    "for state in range(size_of_maze):\n",
    "    ltm.encode(\"state_\" + str(state))\n",
    "    for non_obs in range(num_non_obs_tasks):\n",
    "        ltm.encode(\"non_obs_\" + str(non_obs))\n",
    "        for signal in signals:\n",
    "            ltm.encode(signal)\n",
    "            ltm.encode(\"state_\" + str(state) + \"+non_obs_\" + str(non_obs) + \"+\" + signal)"
   ]
  },
  {
   "cell_type": "code",
   "execution_count": null,
   "metadata": {},
   "outputs": [],
   "source": [
    "for x in range(episodes):\n",
    "    \n",
    "    # Signal for the maze run\n",
    "    signal = np.random.choice(signals)\n",
    "    \n",
    "    # Maze progresses\n",
    "    goal = maze.step_maze(signals.index(signal))\n",
    "    # print(goal)\n",
    "    \n",
    "    # Starting state\n",
    "    curent = random.randint(0, size_of_maze - 1)"
   ]
  },
  {
   "cell_type": "code",
   "execution_count": null,
   "metadata": {},
   "outputs": [],
   "source": [
    "ltm.clean()\n",
    "ltm, agent, maze, nn"
   ]
  }
 ],
 "metadata": {
  "kernelspec": {
   "display_name": "Python 3",
   "language": "python",
   "name": "python3"
  },
  "language_info": {
   "codemirror_mode": {
    "name": "ipython",
    "version": 3
   },
   "file_extension": ".py",
   "mimetype": "text/x-python",
   "name": "python",
   "nbconvert_exporter": "python",
   "pygments_lexer": "ipython3",
   "version": "3.6.7"
  }
 },
 "nbformat": 4,
 "nbformat_minor": 2
}
