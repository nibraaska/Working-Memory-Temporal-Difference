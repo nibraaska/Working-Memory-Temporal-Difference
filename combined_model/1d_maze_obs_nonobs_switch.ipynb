{
 "cells": [
  {
   "cell_type": "code",
   "execution_count": null,
   "metadata": {},
   "outputs": [],
   "source": [
    "import math\n",
    "import numpy as np\n",
    "import random\n",
    "%matplotlib inline\n",
    "from matplotlib import pyplot as plt"
   ]
  },
  {
   "cell_type": "code",
   "execution_count": null,
   "metadata": {},
   "outputs": [],
   "source": [
    "class holographic_reduced_representations:\n",
    "    \n",
    "    # Lenght of hrrs\n",
    "    def __init__(self, length):\n",
    "        self.length = length\n",
    "        \n",
    "    # Creating hrrs\n",
    "    def hrr(self, normalized=False):\n",
    "        if normalized:\n",
    "            x = np.random.uniform(-np.pi,np.pi,int((self.length-1)/2))\n",
    "            if self.length % 2:\n",
    "                x = np.real(np.fft.ifft(np.concatenate([np.ones(1), np.exp(1j*x), np.exp(-1j*x[::-1])])))\n",
    "            else:\n",
    "                x = np.real(np.fft.ifft(np.concatenate([np.ones(1), np.exp(1j*x), np.ones(1), np.exp(-1j*x[::-1])])))\n",
    "        else:\n",
    "            x = np.random.normal(0.0, 1.0/np.sqrt(self.length), self.length)\n",
    "        return x\n",
    "    \n",
    "    # Creates an array of hrrs of size size_of_array x size_of_hrrs\n",
    "    def hrr_array(self, size_of_array, normalized=False):\n",
    "        hrr_arr = np.zeros([size_of_array, self.length])\n",
    "        for x in range(size_of_array):\n",
    "            hrr_arr[x] = self.hrr(normalized)\n",
    "        return hrr_arr\n",
    "    \n",
    "    # Convolve two hrrs\n",
    "    def convolve(self, x, y):\n",
    "        return np.real(np.fft.ifft(np.fft.fft(x)*np.fft.fft(y)))\n",
    "\n",
    "    # Preconvolve all hrrs to save time\n",
    "    def preconvolve(self, possible_wm, possible_signals, state_hrrs):\n",
    "        preconvolved_matrix = np.zeros([possible_wm.size, possible_signals.size, state_hrrs.size, self.length])\n",
    "        for x in range(len(possible_wm)):\n",
    "            for y in range(len(possible_signals)):\n",
    "                for z in range(len(state_hrrs)):\n",
    "                    preconvolved_matrix[x][y][z] = self.convolve(self.convolve(possible_wm[x], possible_signals[y]), state_hrrs[z])\n",
    "        return preconvolved_matrix"
   ]
  },
  {
   "cell_type": "code",
   "execution_count": null,
   "metadata": {},
   "outputs": [],
   "source": [
    "class NeuralNetwork:\n",
    "    def __init__(self, inputs, outputs, discount, alpha):\n",
    "        self.discount = discount\n",
    "        self.alpha = alpha\n",
    "        self.input = inputs\n",
    "        self.output = outputs\n",
    "        self.weights = np.random.randn(outputs, inputs)\n",
    "        self.bias = 1\n",
    "        \n",
    "    def feedforward(self, X):\n",
    "        self.output = np.dot(self.weights, X) + self.bias\n",
    "        return self.output\n",
    "    \n",
    "    def backprop(self, state_prime_hrr, state_hrr, y):\n",
    "        if(y == reward_good):\n",
    "            pass\n",
    "        else:\n",
    "            pass"
   ]
  },
  {
   "cell_type": "code",
   "execution_count": null,
   "metadata": {},
   "outputs": [],
   "source": [
    "# Goals must be a 2d array of integers: num_of_non_obs_tasks x num_of_obs_tasks. \n",
    "# All possible goals must be put into the array for all possible combination of non observable task switching and obervable task switching.\n",
    "class maze:\n",
    "    # Size of the maze\n",
    "    def __init__(self, size_of_maze, non_obs_task_switch_rate, num_of_non_obs_tasks, num_of_obs_tasks, goals):\n",
    "        self.size = size_of_maze\n",
    "        \n",
    "        # Non observable task switching variables\n",
    "        self.non_obs_task_switch = non_obs_task_switch_rate\n",
    "        self.num_of_non_obs_tasks = num_of_non_obs_tasks\n",
    "        self.non_obs_count = 0\n",
    "        self.switch_non_obs = 0\n",
    "        \n",
    "        # Observable task switching variables\n",
    "        self.num_of_obs_tasks = num_of_obs_tasks\n",
    "        self.obs_count = 0\n",
    "        self.switch_obs = 0\n",
    "        \n",
    "        # Goals for the maze with respect to task switches\n",
    "        self.goals = goals\n",
    "        \n",
    "    def step_maze(self):\n",
    "        return self.non_obs_switch_func()\n",
    "     \n",
    "    # Non observable task switching for any number of switches\n",
    "    def non_obs_switch_func(self):\n",
    "        if self.non_obs_count == self.non_obs_task_switch:\n",
    "            self.non_obs_count = 0\n",
    "            self.switch_non_obs =  self.switch_non_obs + 1\n",
    "            if self.switch_non_obs >= self.num_of_non_obs_tasks:\n",
    "                self.switch_non_obs = 0\n",
    "        self.non_obs_count += 1\n",
    "        return self.switch_non_obs, self.obs_task_switch_func(self.switch_non_obs)\n",
    "    \n",
    "    # Observable task switching for any number of switching. Done randomly\n",
    "    def obs_task_switch_func(self, switch_non_obs):\n",
    "        signal = random.randint(0, self.num_of_obs_tasks)\n",
    "        return self.goals[switch_non_obs][signal - 1]"
   ]
  },
  {
   "cell_type": "code",
   "execution_count": null,
   "metadata": {},
   "outputs": [],
   "source": [
    "class agent:\n",
    "    # Gets the left and right spots\n",
    "    def get_moves(self, state):\n",
    "        if(state == 0):\n",
    "            return self.size - 1, 1\n",
    "        elif(state == self.size - 1):\n",
    "            return state - 1, 0\n",
    "        else:\n",
    "            return state - 1, state + 1"
   ]
  },
  {
   "cell_type": "code",
   "execution_count": null,
   "metadata": {},
   "outputs": [],
   "source": [
    "goals = [[0,2,1], [1,0,2],[2,1,0]]"
   ]
  },
  {
   "cell_type": "code",
   "execution_count": null,
   "metadata": {},
   "outputs": [],
   "source": [
    "m = maze(5, 12, 3, 3, goals)"
   ]
  },
  {
   "cell_type": "code",
   "execution_count": null,
   "metadata": {},
   "outputs": [],
   "source": [
    "for x in range(100):\n",
    "    print(x+1, m.step_maze())"
   ]
  }
 ],
 "metadata": {
  "kernelspec": {
   "display_name": "Python 3",
   "language": "python",
   "name": "python3"
  },
  "language_info": {
   "codemirror_mode": {
    "name": "ipython",
    "version": 3
   },
   "file_extension": ".py",
   "mimetype": "text/x-python",
   "name": "python",
   "nbconvert_exporter": "python",
   "pygments_lexer": "ipython3",
   "version": "3.6.7"
  }
 },
 "nbformat": 4,
 "nbformat_minor": 2
}
