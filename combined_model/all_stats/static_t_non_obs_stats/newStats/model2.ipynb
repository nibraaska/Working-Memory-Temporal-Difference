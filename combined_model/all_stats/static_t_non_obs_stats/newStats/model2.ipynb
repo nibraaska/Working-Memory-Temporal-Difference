{
 "cells": [
  {
   "cell_type": "code",
   "execution_count": null,
   "metadata": {},
   "outputs": [],
   "source": []
  },
  {
   "cell_type": "code",
   "execution_count": 1,
   "metadata": {
    "lines_to_next_cell": 2
   },
   "outputs": [],
   "source": [
    "\n",
    "\n",
    "import matplotlib as mpl\n",
    "import matplotlib.pyplot as plt\n",
    "\n",
    "import numpy as np\n",
    "np.set_printoptions(threshold=np.inf)\n",
    "\n",
    "import time, sys, random, pylab\n",
    "from math import fabs\n",
    "\n",
    "from random import randrange\n",
    "from random import choice\n",
    "\n",
    "from hrr import *\n",
    "\n",
    "from IPython.display import clear_output\n",
    "from sys import argv\n",
    "\n",
    "seed_val = 59"
   ]
  },
  {
   "cell_type": "code",
   "execution_count": 2,
   "metadata": {
    "lines_to_next_cell": 2
   },
   "outputs": [],
   "source": [
    "\n",
    "\n",
    "def seed(seed):\n",
    "    random.seed(seed)\n",
    "    np.random.seed(seed)"
   ]
  },
  {
   "cell_type": "code",
   "execution_count": 3,
   "metadata": {
    "lines_to_next_cell": 2
   },
   "outputs": [],
   "source": [
    "\n",
    "\n",
    "seed(seed_val)"
   ]
  },
  {
   "cell_type": "code",
   "execution_count": 4,
   "metadata": {
    "lines_to_next_cell": 2
   },
   "outputs": [],
   "source": [
    "\n",
    "\n",
    "def plot_all_graphs(save=False, iteration=0):\n",
    "    get_ipython().run_line_magic('matplotlib', 'inline')\n",
    "    fig, axes = plt.subplots(nrows=num_of_atrs, ncols=num_obs_tasks+1)\n",
    "    fig.set_figwidth(15)\n",
    "    fig.set_figheight(15)\n",
    "    plt.rcParams.update({'font.size': 14})\n",
    "    \n",
    "    if num_of_atrs > 1:\n",
    "        for x in range(num_of_atrs):\n",
    "            x_ind = x\n",
    "            y_for_rwd = 0\n",
    "            y_for_no_rwd = 0\n",
    "\n",
    "            for wm in list(dict.fromkeys([signal + \"In\" if signal != \"I\" else signal for signal in signals] + [\"I\"])):\n",
    "                position = np.arange(size_of_maze)\n",
    "#                 value = np.zeros(size_of_maze)\n",
    "#                 for signal in signals + [\"I\"]:\n",
    "#                     lab = \"WM:\" + wm + \"*Signal:\" + signal + reward_tkn() + \"*Atr:\" + str(x)\n",
    "#                     for state in range(size_of_maze):\n",
    "#                         encode_str = build_hrr_string(wm, signal, str(state) + \"*rewardTkn\", x)\n",
    "#                         value[state] = np.dot(weights, ltm.encode(encode_str)) + bias\n",
    "#                     axes[x_ind,y_for_rwd].title.set_text(wm + \" with rewardTkn \" + \"Atr: \" + str(x))\n",
    "#                     axes[x_ind,y_for_rwd].plot(position, value, label=lab)\n",
    "#                     axes[x_ind,y_for_no_rwd].tick_params(direction='out', length=6, width=2,\n",
    "#                        grid_color='r', grid_alpha=0.5)\n",
    "#                     axes[x_ind,y_for_rwd].legend(loc='upper center', bbox_to_anchor=(0.5, -0.1),\n",
    "#                           fancybox=True, shadow=True, ncol=1, prop={'size': 10})\n",
    "#                 y_for_rwd += 1\n",
    "\n",
    "                y = x + 1\n",
    "                value = np.zeros(size_of_maze)\n",
    "                for signal in list(dict.fromkeys(signals + [\"I\"])):\n",
    "                    lab = \"WM:\" + wm + \"*Signal:\" + signal + \"*Atr:\" + str(x)\n",
    "                    for state in range(size_of_maze):\n",
    "                        encode_str = build_hrr_string(wm, signal, str(state), x)\n",
    "                        value[state] = np.dot(weights, ltm.encode(encode_str)) + bias\n",
    "                    axes[x_ind,y_for_no_rwd].title.set_text(wm + \" Atr: \" + str(x))\n",
    "                    axes[x_ind,y_for_no_rwd].plot(position, value, label=lab)\n",
    "                    axes[x_ind,y_for_no_rwd].tick_params(direction='out', length=6, width=2,\n",
    "                       grid_color='r', grid_alpha=0.5)\n",
    "                    axes[x_ind,y_for_no_rwd].legend(loc='upper center', bbox_to_anchor=(0.5, -0.1),\n",
    "                          fancybox=True, shadow=True, ncol=1, prop={'size': 10})\n",
    "                y_for_no_rwd += 1\n",
    "                \n",
    "    else:\n",
    "        for x in range(num_of_atrs):\n",
    "            x_ind = x\n",
    "            y_for_rwd = 0\n",
    "            y_for_no_rwd = 0\n",
    "\n",
    "            for wm in list(dict.fromkeys([signal + \"In\" if signal != \"I\" else signal for signal in signals] + [\"I\"])):\n",
    "                position = np.arange(size_of_maze)\n",
    "#                 value = np.zeros(size_of_maze)\n",
    "#                 for signal in signals + [\"I\"]:\n",
    "#                     lab = \"WM:\" + wm + \"*Signal:\" + signal + reward_tkn() + \"*Atr:\" + str(x)\n",
    "#                     for state in range(size_of_maze):\n",
    "#                         encode_str = build_hrr_string(wm, signal, str(state) + \"*rewardTkn\", x)\n",
    "#                         value[state] = np.dot(weights, ltm.encode(encode_str)) + bias\n",
    "#                     axes[y_for_no_rwd].title.set_text(wm + \" with rewardTkn \" + \"Atr: \" + str(x))\n",
    "#                     axes[y_for_no_rwd].plot(position, value, label=lab)\n",
    "#                     axes[y_for_no_rwd].tick_params(direction='out', length=6, width=2,\n",
    "#                        grid_color='r', grid_alpha=0.5)\n",
    "#                     axes[y_for_no_rwd].legend(loc='upper center', bbox_to_anchor=(0.5, -0.1),\n",
    "#                           fancybox=True, shadow=True, ncol=1, prop={'size': 10})\n",
    "#                 y_for_rwd += 1\n",
    "\n",
    "                y = x + 1\n",
    "                value = np.zeros(size_of_maze)\n",
    "                for signal in list(dict.fromkeys(signals + [\"I\"])):\n",
    "                    lab = \"WM:\" + wm + \"*Signal:\" + signal + \"*Atr:\" + str(x)\n",
    "                    for state in range(size_of_maze):\n",
    "                        encode_str = build_hrr_string(wm, signal, str(state), x)\n",
    "                        value[state] = np.dot(weights, ltm.encode(encode_str)) + bias\n",
    "                    axes[y_for_no_rwd].title.set_text(wm + \" Atr: \" + str(x))\n",
    "                    axes[y_for_no_rwd].plot(position, value, label=lab)\n",
    "                    axes[y_for_no_rwd].tick_params(direction='out', length=6, width=2,\n",
    "                       grid_color='r', grid_alpha=0.5)\n",
    "                    axes[y_for_no_rwd].legend(loc='upper center', bbox_to_anchor=(0.5, -0.1),\n",
    "                          fancybox=True, shadow=True, ncol=1, prop={'size': 10})\n",
    "                y_for_no_rwd += 1\n",
    "\n",
    "    plt.title(iteration)\n",
    "    plt.tight_layout(rect=[0, 0.03, 1, 0.95])\n",
    "    if save:\n",
    "        plt.savefig(\"plots/run_{0}\".format(iteration), dpi=fig.dpi)\n",
    "    else:\n",
    "        plt.show()\n",
    "    \n",
    "def plot_graph(data):\n",
    "    get_ipython().run_line_magic('matplotlib', 'inline')\n",
    "    plt.plot(data)\n",
    "    plt.show()\n",
    "    \n",
    "def live_graphs():\n",
    "    get_ipython().run_line_magic('matplotlib', 'qt')\n",
    "    mpl.rcParams['axes.prop_cycle'] = mpl.cycler(color=[\"r\", \"g\", \"b\", \"y\"]) \n",
    "    fig, axes = plt.subplots(nrows=num_of_atrs, ncols=num_obs_tasks+1)\n",
    "    \n",
    "    if num_of_atrs > 1:\n",
    "        for x in range(num_of_atrs):\n",
    "            x_ind = x\n",
    "            y_for_no_rwd = 0\n",
    "            for wm in list(dict.fromkeys([signal + \"In\" if signal != \"I\" else signal for signal in signals] + [\"I\"])):\n",
    "                position = np.arange(size_of_maze)\n",
    "                value = np.zeros(size_of_maze)\n",
    "                for signal in list(dict.fromkeys(signals + [\"I\"])):\n",
    "                    lab = \"WM:\" + wm + \"*Signal:\" + signal + \"*Atr:\" + str(x)\n",
    "                    for state in range(size_of_maze):\n",
    "                        encode_str = build_hrr_string(wm, signal, str(state), x)\n",
    "                        value[state] = np.dot(weights, ltm.encode(encode_str)) + bias\n",
    "                    axes[x_ind,y_for_no_rwd].title.set_text(wm + \" Atr: \" + str(x))\n",
    "                    axes[x_ind,y_for_no_rwd].plot(position, value, label=lab)\n",
    "                    axes[x_ind,y_for_no_rwd].tick_params(direction='out', length=6, width=2,\n",
    "                       grid_color='r', grid_alpha=0.5)\n",
    "                    axes[x_ind,y_for_no_rwd].legend(loc='upper center', bbox_to_anchor=(0.5, -0.1),\n",
    "                          fancybox=True, shadow=True, ncol=1, prop={'size': 10})\n",
    "                y_for_no_rwd += 1\n",
    "    else:\n",
    "        for x in range(num_of_atrs):\n",
    "            x_ind = x\n",
    "            y_for_no_rwd = 0\n",
    "            for wm in list(dict.fromkeys([signal + \"In\" if signal != \"I\" else signal for signal in signals] + [\"I\"])):\n",
    "                position = np.arange(size_of_maze)\n",
    "                value = np.zeros(size_of_maze)\n",
    "                for signal in list(dict.fromkeys(signals + [\"I\"])):\n",
    "                    lab = \"WM:\" + wm + \"*Signal:\" + signal + \"*Atr:\" + str(x)\n",
    "                    for state in range(size_of_maze):\n",
    "                        encode_str = build_hrr_string(wm, signal, str(state), x)\n",
    "                        value[state] = np.dot(weights, ltm.encode(encode_str)) + bias\n",
    "                    axes[y_for_no_rwd].title.set_text(wm + \" Atr: \" + str(x))\n",
    "                    axes[y_for_no_rwd].plot(position, value, label=lab)\n",
    "                    axes[y_for_no_rwd].tick_params(direction='out', length=6, width=2,\n",
    "                       grid_color='r', grid_alpha=0.5)\n",
    "                    axes[y_for_no_rwd].legend(loc='upper center', bbox_to_anchor=(0.5, -0.1),\n",
    "                          fancybox=True, shadow=True, ncol=1, prop={'size': 10})\n",
    "                y_for_no_rwd += 1 \n",
    "    plt.tight_layout(rect=[0, 0.03, 1, 0.95])\n",
    "    ani = animation.FuncAnimation(fig, animate, interval=60000)\n",
    "    plt.show()\n",
    "    plt.suptitle(\"{0} Non-Observable tasks and {1} Observable tasks with goals: {2}\".format(num_non_obs_tasks, num_obs_tasks, goals), fontsize=30)\n",
    "    \n",
    "def animate(i):\n",
    "    if num_of_atrs > 1:\n",
    "        for x in range(num_of_atrs):\n",
    "            x_ind = x\n",
    "            y_for_no_rwd = 0\n",
    "            for wm in list(dict.fromkeys([signal + \"In\" if signal != \"I\" else signal for signal in signals] + [\"I\"])):\n",
    "                position = np.arange(size_of_maze)\n",
    "                value = np.zeros(size_of_maze)\n",
    "                for signal in list(dict.fromkeys(signals + [\"I\"])):\n",
    "                    lab = \"WM:\" + wm + \"*Signal:\" + signal + \"*Atr:\" + str(x)\n",
    "                    for state in range(size_of_maze):\n",
    "                        encode_str = build_hrr_string(wm, signal, str(state), x)\n",
    "                        value[state] = np.dot(weights, ltm.encode(encode_str)) + bias\n",
    "                    axes[x_ind,y_for_no_rwd].title.set_text(wm + \" Atr: \" + str(x))\n",
    "                    axes[x_ind,y_for_no_rwd].plot(position, value, label=lab)\n",
    "                    axes[x_ind,y_for_no_rwd].tick_params(direction='out', length=6, width=2,\n",
    "                       grid_color='r', grid_alpha=0.5)\n",
    "                    axes[x_ind,y_for_no_rwd].legend(loc='upper center', bbox_to_anchor=(0.5, -0.1),\n",
    "                          fancybox=True, shadow=True, ncol=1, prop={'size': 10})\n",
    "                y_for_no_rwd += 1\n",
    "    else:\n",
    "        for x in range(num_of_atrs):\n",
    "            x_ind = x\n",
    "            y_for_no_rwd = 0\n",
    "            for wm in list(dict.fromkeys([signal + \"In\" if signal != \"I\" else signal for signal in signals] + [\"I\"])):\n",
    "                position = np.arange(size_of_maze)\n",
    "                value = np.zeros(size_of_maze)\n",
    "                for signal in list(dict.fromkeys(signals + [\"I\"])):\n",
    "                    lab = \"WM:\" + wm + \"*Signal:\" + signal + \"*Atr:\" + str(x)\n",
    "                    for state in range(size_of_maze):\n",
    "                        encode_str = build_hrr_string(wm, signal, str(state), x)\n",
    "                        value[state] = np.dot(weights, ltm.encode(encode_str)) + bias\n",
    "                    axes[y_for_no_rwd].title.set_text(wm + \" Atr: \" + str(x))\n",
    "                    axes[y_for_no_rwd].plot(position, value, label=lab)\n",
    "                    axes[y_for_no_rwd].tick_params(direction='out', length=6, width=2,\n",
    "                       grid_color='r', grid_alpha=0.5)\n",
    "                    axes[y_for_no_rwd].legend(loc='upper center', bbox_to_anchor=(0.5, -0.1),\n",
    "                          fancybox=True, shadow=True, ncol=1, prop={'size': 10})\n",
    "                y_for_no_rwd += 1\n",
    "    plt.tight_layout(rect=[0, 0.03, 1, 0.95])"
   ]
  },
  {
   "cell_type": "code",
   "execution_count": 5,
   "metadata": {
    "lines_to_next_cell": 2
   },
   "outputs": [],
   "source": [
    "\n",
    "\n",
    "def update_progress(progress, episode):\n",
    "    bar_length = 50\n",
    "    if isinstance(progress, int):\n",
    "        progress = float(progress)\n",
    "    if not isinstance(progress, float):\n",
    "        progress = 0\n",
    "    if progress < 0:\n",
    "        progress = 0\n",
    "    if progress >= 1:\n",
    "        progress = 1\n",
    "\n",
    "    block = int(round(bar_length * progress))\n",
    "\n",
    "    clear_output(wait = True)\n",
    "    text = \"Episode {0}, Progress: [{1}] {2:.1f}%\".format(episode, \"=\" * block + \".\" * (bar_length - block), progress * 100)\n",
    "    print(text)"
   ]
  },
  {
   "cell_type": "code",
   "execution_count": 6,
   "metadata": {
    "lines_to_next_cell": 2
   },
   "outputs": [],
   "source": [
    "\n",
    "\n",
    "def get_moves(state, size_of_maze):\n",
    "    if(state == 0):\n",
    "        return size_of_maze - 1, 1\n",
    "    elif(state == size_of_maze - 1):\n",
    "        return size_of_maze - 2, 0\n",
    "    else:\n",
    "        return state - 1, state + 1"
   ]
  },
  {
   "cell_type": "code",
   "execution_count": 7,
   "metadata": {
    "lines_to_next_cell": 2
   },
   "outputs": [],
   "source": [
    "\n",
    "\n",
    "def build_hrr_string(wm, signal, state, atr):\n",
    "    if wm == \"I\" and signal == \"I\":\n",
    "        return \"State:\" + str(state) + \"*\" + \"Atr:\" + str(atr)\n",
    "    elif wm == \"I\":\n",
    "        return \"Signal:\" + str(signal) + \"*\" + \"State:\" + str(state) + \"*\" + \"Atr:\" + str(atr)\n",
    "    elif signal == \"I\":\n",
    "        return \"WM:\" + str(wm) + \"*\" + \"State:\" + str(state) + \"*\" + \"Atr:\" + str(atr)\n",
    "    else:\n",
    "        return \"WM:\" + str(wm) + \"*\" + \"Signal:\" + str(signal) + \"*\" + \"State:\" + str(state) + \"*\" + \"Atr:\" + str(atr)"
   ]
  },
  {
   "cell_type": "code",
   "execution_count": 8,
   "metadata": {
    "lines_to_next_cell": 2
   },
   "outputs": [],
   "source": [
    "\n",
    "\n",
    "def context_policy_negative(atr):\n",
    "    return (atr + 1)%num_of_atrs\n",
    "\n",
    "def context_policy_positive(wm, signal, state, atr):\n",
    "    val = -9999\n",
    "    for atr in range(0, num_of_atrs):\n",
    "        encode_str = build_hrr_string(wm, signal, state, atr)\n",
    "        temp = np.dot(weights, ltm.encode(encode_str)) + bias\n",
    "        if temp > val:\n",
    "            val = temp\n",
    "            s_atr = atr\n",
    "    return s_atr"
   ]
  },
  {
   "cell_type": "code",
   "execution_count": 9,
   "metadata": {
    "lines_to_next_cell": 2
   },
   "outputs": [],
   "source": [
    "\n",
    "\n",
    "def reward_tkn():\n",
    "    return \"*rewardTkn\""
   ]
  },
  {
   "cell_type": "code",
   "execution_count": 10,
   "metadata": {
    "lines_to_next_cell": 2
   },
   "outputs": [],
   "source": [
    "\n",
    "\n",
    "def move_policy(goal, moves, wms, signals, atr, rand_on):\n",
    "    val = -9999\n",
    "    for move in moves:\n",
    "        for wm in list(dict.fromkeys(wms + [\"I\"])):\n",
    "            for signal in list(dict.fromkeys(signals + [\"I\"])):\n",
    "                if move == goal:\n",
    "                    encode_str = build_hrr_string(wm, signal, str(move) + reward_tkn(), atr)\n",
    "                else:\n",
    "                    encode_str = build_hrr_string(wm, signal, move, atr)\n",
    "                if (debug):\n",
    "                    print(encode_str)\n",
    "                temp = np.dot(weights, ltm.encode(encode_str)) + bias\n",
    "                if debug:\n",
    "                    if signal != \"I\":\n",
    "                        print(\"Move: {0}, WM: {1}, Signal: {2}In, Atr: {3}, Value: {4}\".format(move, wm, signal, atr, temp))\n",
    "                    else:\n",
    "                        print(\"Move: {0}, WM: {1}, Signal: {2}, Atr: {3}, Value: {4}\".format(move, wm, signal, atr, temp))\n",
    "                if temp > val:\n",
    "                    val = temp\n",
    "                    s_move = move\n",
    "                    if signal != \"I\":\n",
    "                        s_wm = signal + \"In\"\n",
    "                    else:\n",
    "                        s_wm = wm\n",
    "    if(np.random.random_sample() < e_soft) and rand_on:\n",
    "        if(debug):\n",
    "            print(\"RANDOM MOVE\")\n",
    "        return (np.random.choice(moves), wm, atr, True)\n",
    "    \n",
    "    return (s_move, s_wm, atr, False)"
   ]
  },
  {
   "cell_type": "code",
   "execution_count": 11,
   "metadata": {
    "lines_to_next_cell": 2
   },
   "outputs": [],
   "source": [
    "\n",
    "\n",
    "def logmod(x):\n",
    "    return np.sign(x)*np.log(abs(x)+1)"
   ]
  },
  {
   "cell_type": "code",
   "execution_count": 12,
   "metadata": {
    "lines_to_next_cell": 2
   },
   "outputs": [],
   "source": [
    "\n",
    "\n",
    "def get_opt_steps(start, goal, size_of_maze):\n",
    "    opt = abs(goal - start)\n",
    "    if opt > size_of_maze / 2:\n",
    "        opt = size_of_maze - opt\n",
    "    return opt"
   ]
  },
  {
   "cell_type": "code",
   "execution_count": 13,
   "metadata": {
    "lines_to_next_cell": 2
   },
   "outputs": [],
   "source": [
    "\n",
    "\n",
    "def start_testing():\n",
    "    global testing, rand_on, alpha, threshold_alpha, atr_alpha\n",
    "    testing = True\n",
    "    rand_on = 0\n",
    "    alpha = 0.01\n",
    "    threshold_alpha = 0\n",
    "    atr_alpha = 0"
   ]
  },
  {
   "cell_type": "code",
   "execution_count": 14,
   "metadata": {
    "lines_to_next_cell": 2
   },
   "outputs": [],
   "source": [
    "\n",
    "\n",
    "def reset():\n",
    "    seed(seed_val)\n",
    "    global num_of_atrs, atr_values, threshold, hrr_length, ltm, weights, eligibility\n",
    "    num_of_atrs += 1\n",
    "    atr_values = [1 * reward_good] * num_of_atrs\n",
    "    if dynamic_threshold:\n",
    "        threshold = 1\n",
    "    hrr_length = (num_of_atrs * hrr_length) / (num_of_atrs - 1)\n",
    "    del ltm\n",
    "    ltm = LTM(int(hrr_length), normalized)\n",
    "    weights = hrr(int(hrr_length), normalized)\n",
    "    eligibility = np.zeros(int(hrr_length))"
   ]
  },
  {
   "cell_type": "code",
   "execution_count": 15,
   "metadata": {
    "lines_to_next_cell": 2
   },
   "outputs": [],
   "source": [
    "\n",
    "\n",
    "# Number of training cycles\n",
    "episodes = 500000\n",
    "\n",
    "# Hrr parameters\n",
    "hrr_length = 6144\n",
    "normalized = True\n",
    "\n",
    "# How many steps to take before quiting\n",
    "steps_till_quit = 100\n",
    "\n",
    "# Task\n",
    "signals = [\"I\"]\n",
    "goals = [[0], [4], [7], [10], [13]]\n",
    "\n",
    "# Maze parameters\n",
    "size_of_maze = 20\n",
    "non_obs_task_switch_rate = 500\n",
    "num_non_obs_tasks = len(goals)\n",
    "num_obs_tasks = len(signals)\n",
    "\n",
    "# Arguments for neural network\n",
    "input_size = hrr_length\n",
    "output_size = 1\n",
    "discount = 0.7\n",
    "alpha = 0.1\n",
    "\n",
    "# Reward for temporal difference learning\n",
    "reward_bad = -1\n",
    "reward_good = 0\n",
    "\n",
    "# Dynamic atrs hyperparameters\n",
    "num_of_atrs = 1\n",
    "atr_alpha = 0.00065\n",
    "atr_values = (np.ones(num_of_atrs) * reward_good).tolist()\n",
    "atr_threshold = -0.5\n",
    "threshold_vals = []\n",
    "\n",
    "# Threshold for non observable task switching\n",
    "threshold = 0.3\n",
    "# threshold = 1\n",
    "# threshold_alpha = 0.0001\n",
    "dynamic_threshold = False\n",
    "\n",
    "# Expolration rate\n",
    "e_soft = 0.00001\n",
    "rand_on = 1\n",
    "\n",
    "# Eligibility trace rate\n",
    "eli_lambda = 0.0\n",
    "\n",
    "# Neural network\n",
    "weights = hrr(hrr_length, normalized)\n",
    "bias = 1\n",
    "\n",
    "# Eligibility trace\n",
    "eligibility = np.zeros(hrr_length)\n",
    "\n",
    "# Accurcay test percentage\n",
    "percent_check = 9\n",
    "\n",
    "# Start values for the agent\n",
    "non_obs = 0\n",
    "current_atr = 0\n",
    "current_wm = \"I\"\n",
    "changed = False\n",
    "\n",
    "# Flag for printing values\n",
    "debug = False\n",
    "testing = False\n",
    "\n",
    "create_plots = True\n",
    "episodic_memory = False\n",
    "\n",
    "step_store = []\n",
    "if create_plots:\n",
    "    pos_err_store = []\n",
    "    neg_err_store = []\n",
    "    total_error = []\n",
    "    total_goal_error = []\n",
    "    switch_error = []\n",
    "    norm_error = []\n",
    "\n",
    "# Live graph flag\n",
    "live_graph = False\n",
    "\n",
    "# Ltm is created\n",
    "ltm = LTM(hrr_length, normalized)"
   ]
  },
  {
   "cell_type": "code",
   "execution_count": 16,
   "metadata": {
    "lines_to_next_cell": 2
   },
   "outputs": [],
   "source": [
    "\n",
    "\n",
    "# start_time = time.time()"
   ]
  },
  {
   "cell_type": "code",
   "execution_count": 17,
   "metadata": {
    "lines_to_next_cell": 2
   },
   "outputs": [
    {
     "name": "stdout",
     "output_type": "stream",
     "text": [
      "Episode 301053, Progress: [===============...................................] 30.1%\n"
     ]
    },
    {
     "ename": "KeyboardInterrupt",
     "evalue": "",
     "output_type": "error",
     "traceback": [
      "\u001b[0;31m---------------------------------------------------------------------------\u001b[0m",
      "\u001b[0;31mKeyboardInterrupt\u001b[0m                         Traceback (most recent call last)",
      "\u001b[0;32m<ipython-input-17-635b3cb654aa>\u001b[0m in \u001b[0;36m<module>\u001b[0;34m\u001b[0m\n\u001b[1;32m    100\u001b[0m             \u001b[0mencode_str\u001b[0m \u001b[0;34m=\u001b[0m \u001b[0mbuild_hrr_string\u001b[0m\u001b[0;34m(\u001b[0m\u001b[0mcurrent_wm\u001b[0m\u001b[0;34m,\u001b[0m \u001b[0mcurrent_signal\u001b[0m\u001b[0;34m,\u001b[0m \u001b[0mcurrent_state\u001b[0m\u001b[0;34m,\u001b[0m \u001b[0mcurrent_atr\u001b[0m\u001b[0;34m)\u001b[0m\u001b[0;34m\u001b[0m\u001b[0;34m\u001b[0m\u001b[0m\n\u001b[1;32m    101\u001b[0m \u001b[0;34m\u001b[0m\u001b[0m\n\u001b[0;32m--> 102\u001b[0;31m         \u001b[0mcurrent_state_hrr\u001b[0m \u001b[0;34m=\u001b[0m \u001b[0mltm\u001b[0m\u001b[0;34m.\u001b[0m\u001b[0mencode\u001b[0m\u001b[0;34m(\u001b[0m\u001b[0mencode_str\u001b[0m\u001b[0;34m)\u001b[0m\u001b[0;34m\u001b[0m\u001b[0;34m\u001b[0m\u001b[0m\n\u001b[0m\u001b[1;32m    103\u001b[0m         \u001b[0mcurrent_value\u001b[0m \u001b[0;34m=\u001b[0m \u001b[0mnp\u001b[0m\u001b[0;34m.\u001b[0m\u001b[0mdot\u001b[0m\u001b[0;34m(\u001b[0m\u001b[0mweights\u001b[0m\u001b[0;34m,\u001b[0m \u001b[0mcurrent_state_hrr\u001b[0m\u001b[0;34m)\u001b[0m \u001b[0;34m+\u001b[0m \u001b[0mbias\u001b[0m\u001b[0;34m\u001b[0m\u001b[0;34m\u001b[0m\u001b[0m\n\u001b[1;32m    104\u001b[0m \u001b[0;34m\u001b[0m\u001b[0m\n",
      "\u001b[0;32m~/Coding/Working-Memory-Temporal-Difference/combined_model/all_stats/static_t_non_obs_stats/newStats/hrr.py\u001b[0m in \u001b[0;36mencode\u001b[0;34m(self, q)\u001b[0m\n\u001b[1;32m    156\u001b[0m                                 \u001b[0msubrep\u001b[0m \u001b[0;34m=\u001b[0m \u001b[0mconvolve\u001b[0m\u001b[0;34m(\u001b[0m\u001b[0msubrep\u001b[0m\u001b[0;34m,\u001b[0m\u001b[0mself\u001b[0m\u001b[0;34m.\u001b[0m\u001b[0mlookup\u001b[0m\u001b[0;34m(\u001b[0m\u001b[0mcombination\u001b[0m\u001b[0;34m[\u001b[0m\u001b[0mi\u001b[0m\u001b[0;34m]\u001b[0m\u001b[0;34m)\u001b[0m\u001b[0;34m)\u001b[0m\u001b[0;34m\u001b[0m\u001b[0;34m\u001b[0m\u001b[0m\n\u001b[1;32m    157\u001b[0m                             \u001b[0mself\u001b[0m\u001b[0;34m.\u001b[0m\u001b[0mstore\u001b[0m\u001b[0;34m[\u001b[0m\u001b[0mkey\u001b[0m\u001b[0;34m]\u001b[0m \u001b[0;34m=\u001b[0m \u001b[0msubrep\u001b[0m\u001b[0;34m\u001b[0m\u001b[0;34m\u001b[0m\u001b[0m\n\u001b[0;32m--> 158\u001b[0;31m             \u001b[0mrep\u001b[0m \u001b[0;34m+=\u001b[0m \u001b[0mself\u001b[0m\u001b[0;34m.\u001b[0m\u001b[0mstore\u001b[0m\u001b[0;34m[\u001b[0m\u001b[0mkey\u001b[0m\u001b[0;34m]\u001b[0m\u001b[0;34m\u001b[0m\u001b[0;34m\u001b[0m\u001b[0m\n\u001b[0m\u001b[1;32m    159\u001b[0m         \u001b[0mrep\u001b[0m \u001b[0;34m/=\u001b[0m \u001b[0mnumpy\u001b[0m\u001b[0;34m.\u001b[0m\u001b[0msqrt\u001b[0m\u001b[0;34m(\u001b[0m\u001b[0mlen\u001b[0m\u001b[0;34m(\u001b[0m\u001b[0mq\u001b[0m\u001b[0;34m)\u001b[0m\u001b[0;34m)\u001b[0m\u001b[0;34m\u001b[0m\u001b[0;34m\u001b[0m\u001b[0m\n\u001b[1;32m    160\u001b[0m         \u001b[0;32mreturn\u001b[0m \u001b[0mrep\u001b[0m\u001b[0;34m\u001b[0m\u001b[0;34m\u001b[0m\u001b[0m\n",
      "\u001b[0;31mKeyboardInterrupt\u001b[0m: "
     ]
    },
    {
     "data": {
      "image/png": "[encoded data removed]",
      "text/plain": [
       "<Figure size 1080x1080 with 18 Axes>"
      ]
     },
     "metadata": {
      "needs_background": "light"
     },
     "output_type": "display_data"
    }
   ],
   "source": [
    "\n",
    "\n",
    "for x in range(episodes):\n",
    "        \n",
    "    # Initial state\n",
    "    current_state = random.randint(0, size_of_maze - 1)\n",
    "    start = current_state\n",
    "    current_signal = np.random.choice(signals)\n",
    "    eligibility *= 0.0\n",
    "    \n",
    "    if episodic_memory:\n",
    "        episode_memory = []\n",
    "    \n",
    "    changed = False\n",
    "    \n",
    "    # Set the goal for the tast\n",
    "    if x%non_obs_task_switch_rate == 0:\n",
    "        non_obs = choice([i for i in range(len(goals)) if i not in [non_obs]])\n",
    "        changed = True\n",
    "    if num_obs_tasks == 1:\n",
    "        goal = goals[non_obs][0]\n",
    "    else:\n",
    "        goal = goals[non_obs][signals.index(current_signal)]\n",
    "        \n",
    "    steps = 0\n",
    "    opt_steps = get_opt_steps(current_state, goal, size_of_maze)\n",
    "    \n",
    "    # Start testing phase\n",
    "    if testing == False and x > ((episodes*percent_check) / 10):\n",
    "        start_testing()\n",
    "        \n",
    "    for y in range(steps_till_quit):\n",
    "        if create_plots:\n",
    "            threshold_vals += [threshold]\n",
    "        if (current_state == goal):\n",
    "            encode_str = build_hrr_string(current_wm, current_signal, str(current_state) + reward_tkn(), current_atr)\n",
    "            goal_hrr = ltm.encode(encode_str)\n",
    "            goal_value = np.dot(weights, goal_hrr) + bias\n",
    "            \n",
    "            if episodic_memory:\n",
    "                episode_memory += [[current_state, goal_value, goal]]\n",
    "\n",
    "            error = reward_good - goal_value\n",
    "            eligibility *= eli_lambda\n",
    "            eligibility = eligibility + goal_hrr\n",
    "            weights = np.add(weights, (alpha * logmod(error) * eligibility))\n",
    "            \n",
    "            if dynamic_threshold:\n",
    "                threshold += threshold_alpha * logmod(error)\n",
    "                \n",
    "            atr_values[current_atr] += atr_alpha * logmod(error)\n",
    "            \n",
    "            if create_plots:\n",
    "                total_goal_error += [error]\n",
    "            \n",
    "            if(debug):\n",
    "                print(\"In goal with value {0}\".format(goal_value))\n",
    "            \n",
    "            break\n",
    "            \n",
    "        # Store info about previous state      \n",
    "        previous_wm = current_wm\n",
    "        previous_signal = current_signal\n",
    "        previous_state = current_state\n",
    "        previous_atr = current_atr\n",
    "        \n",
    "        if debug:\n",
    "            print(\"Previous WM:, {0}, Signal:, {1}, State, {2}, ATR:, {3}\".format(previous_wm, previous_signal, previous_state, previous_atr))\n",
    "        \n",
    "        encode_str = build_hrr_string(previous_wm, previous_signal, previous_state, previous_atr)\n",
    "        previous_state_hrr = ltm.encode(encode_str)\n",
    "        previous_value = np.dot(weights, previous_state_hrr) + bias\n",
    "        \n",
    "        if debug:\n",
    "            print(\"Started with state: {0}, State Value: {1}, WM: {2},  Atr: {3}\".format(previous_state, previous_value, previous_wm, previous_atr))\n",
    "            \n",
    "        current_signal = \"I\"\n",
    "        left, right = get_moves(previous_state, size_of_maze)\n",
    "        if previous_signal != \"I\":\n",
    "            previous_signal += \"In\"\n",
    "            \n",
    "        # Make the move\n",
    "        move, wm, current_atr, random_move = move_policy(goal, [left, right], [previous_wm, previous_signal], [current_signal], previous_atr, rand_on)\n",
    "        steps += 1\n",
    "        current_wm = wm\n",
    "        current_state = move\n",
    "        \n",
    "        if random_move:\n",
    "            eligibility *= 0.0\n",
    "            \n",
    "        if(debug):\n",
    "            print(\"Moves {0}, taken {1}\".format([left, right], move))\n",
    "            \n",
    "        if debug:\n",
    "            print(\"Current WM {0}, Current Signal {1}, Current state {2}, Current ATR {3}\".format(current_wm, current_signal, current_state, current_atr))\n",
    "            \n",
    "        if current_state == goal:\n",
    "            encode_str = build_hrr_string(current_wm, current_signal, str(current_state) + reward_tkn(), current_atr)     \n",
    "            if debug:\n",
    "                print(\"In goal: WM: {1}, ATR: {2}\".format(current_wm, current_atr))\n",
    "        else:\n",
    "            encode_str = build_hrr_string(current_wm, current_signal, current_state, current_atr)\n",
    "            \n",
    "        current_state_hrr = ltm.encode(encode_str)\n",
    "        current_value = np.dot(weights, current_state_hrr) + bias\n",
    "        \n",
    "        sarsa_error = (reward_bad + discount * current_value) - previous_value\n",
    "        eligibility *= eli_lambda\n",
    "        eligibility = eligibility + previous_state_hrr\n",
    "        weights = np.add(weights, (alpha * logmod(sarsa_error) * eligibility))\n",
    "\n",
    "        atr_values[current_atr] += atr_alpha * logmod(sarsa_error)\n",
    "        \n",
    "        if dynamic_threshold:\n",
    "            threshold += threshold_alpha * logmod(sarsa_error)\n",
    "        \n",
    "        if create_plots:\n",
    "            total_error += [sarsa_error]\n",
    "            norm_error += [sarsa_error]\n",
    "        \n",
    "        if sarsa_error > fabs(threshold) or sarsa_error < -fabs(threshold):\n",
    "            \n",
    "            if np.mean(atr_values) < atr_threshold:\n",
    "                reset()\n",
    "            \n",
    "            if create_plots:\n",
    "                switch_error += [sarsa_error]\n",
    "            \n",
    "            if create_plots:\n",
    "                if testing and sarsa_error > fabs(threshold):\n",
    "                    pos_err_store += [sarsa_error]\n",
    "                elif testing and sarsa_error < -fabs(threshold):\n",
    "                    neg_err_store += [sarsa_error]\n",
    "                \n",
    "            if sarsa_error > fabs(threshold):\n",
    "                current_atr = context_policy_positive(current_wm, current_signal, current_state, current_atr)\n",
    "            elif sarsa_error < -fabs(threshold):\n",
    "                current_atr = context_policy_negative(previous_atr)\n",
    "            \n",
    "            eligibility *= 0.0\n",
    "            \n",
    "            if changed:\n",
    "                steps = 0\n",
    "                start = current_state\n",
    "                opt_steps = get_opt_steps(current_state, goal, size_of_maze)\n",
    "                \n",
    "            if(debug):\n",
    "                print(\"Changed atr from {0} to {1}\".format(previous_atr, current_atr))\n",
    "                \n",
    "        if debug:\n",
    "            input(\"\")\n",
    "        \n",
    "    if testing:\n",
    "        if current_state == goal:\n",
    "            step_store += [steps - opt_steps]\n",
    "        else:\n",
    "            step_store += [steps_till_quit]\n",
    "            \n",
    "    update_progress(x / episodes, x)\n",
    "    if (x%500) == 0:\n",
    "        plot_all_graphs(True, x)      \n",
    "    if live_graph:\n",
    "        plt.pause(0.001)\n",
    "    \n",
    "update_progress(1, episodes)"
   ]
  },
  {
   "cell_type": "code",
   "execution_count": null,
   "metadata": {
    "lines_to_next_cell": 2
   },
   "outputs": [],
   "source": [
    "\n",
    "\n",
    "# end_time = time.time()\n",
    "# print(\"Total time: {0} minutes\".format((end_time - start_time)/60))"
   ]
  },
  {
   "cell_type": "code",
   "execution_count": null,
   "metadata": {
    "lines_to_next_cell": 2
   },
   "outputs": [],
   "source": [
    "\n",
    "\n",
    "plot_graph(step_store)\n",
    "accuracy = (len(step_store)-np.count_nonzero(step_store))*100.0 / len(step_store)\n",
    "print(accuracy)"
   ]
  },
  {
   "cell_type": "code",
   "execution_count": null,
   "metadata": {
    "lines_to_next_cell": 2,
    "scrolled": true
   },
   "outputs": [],
   "source": [
    "plot_all_graphs()"
   ]
  },
  {
   "cell_type": "code",
   "execution_count": null,
   "metadata": {
    "lines_to_next_cell": 2
   },
   "outputs": [],
   "source": [
    "\n",
    "\n",
    "if create_plots:\n",
    "    plot_graph(pos_err_store)"
   ]
  },
  {
   "cell_type": "code",
   "execution_count": null,
   "metadata": {
    "lines_to_next_cell": 2
   },
   "outputs": [],
   "source": [
    "\n",
    "\n",
    "if create_plots:\n",
    "    plot_graph(neg_err_store)"
   ]
  },
  {
   "cell_type": "code",
   "execution_count": null,
   "metadata": {
    "lines_to_next_cell": 2
   },
   "outputs": [],
   "source": [
    "\n",
    "\n",
    "if create_plots:\n",
    "    plot_graph(total_error)"
   ]
  },
  {
   "cell_type": "code",
   "execution_count": null,
   "metadata": {
    "lines_to_next_cell": 2
   },
   "outputs": [],
   "source": [
    "\n",
    "\n",
    "if create_plots:\n",
    "    plot_graph(total_goal_error)"
   ]
  },
  {
   "cell_type": "code",
   "execution_count": null,
   "metadata": {
    "lines_to_next_cell": 2
   },
   "outputs": [],
   "source": [
    "\n",
    "\n",
    "if create_plots:\n",
    "    plt.plot(switch_error)"
   ]
  },
  {
   "cell_type": "code",
   "execution_count": null,
   "metadata": {
    "lines_to_next_cell": 2
   },
   "outputs": [],
   "source": [
    "\n",
    "\n",
    "if create_plots:\n",
    "    plot_graph(norm_error)"
   ]
  },
  {
   "cell_type": "code",
   "execution_count": null,
   "metadata": {
    "lines_to_next_cell": 2
   },
   "outputs": [],
   "source": [
    "\n",
    "\n",
    "# threshold"
   ]
  },
  {
   "cell_type": "code",
   "execution_count": null,
   "metadata": {
    "lines_to_next_cell": 2
   },
   "outputs": [],
   "source": [
    "\n",
    "\n",
    "print(atr_values)"
   ]
  },
  {
   "cell_type": "code",
   "execution_count": null,
   "metadata": {
    "lines_to_next_cell": 2
   },
   "outputs": [],
   "source": [
    "\n",
    "\n",
    "# plot_graph(threshold_vals)"
   ]
  },
  {
   "cell_type": "code",
   "execution_count": null,
   "metadata": {
    "lines_to_next_cell": 2
   },
   "outputs": [],
   "source": [
    "\n",
    "\n",
    "# hrr_length"
   ]
  },
  {
   "cell_type": "code",
   "execution_count": null,
   "metadata": {
    "lines_to_next_cell": 2
   },
   "outputs": [],
   "source": [
    "\n",
    "\n",
    "# ltm.count()"
   ]
  },
  {
   "cell_type": "code",
   "execution_count": null,
   "metadata": {
    "lines_to_next_cell": 2
   },
   "outputs": [],
   "source": [
    "\n",
    "\n",
    "# seed_val"
   ]
  },
  {
   "cell_type": "code",
   "execution_count": null,
   "metadata": {},
   "outputs": [],
   "source": [
    "\n",
    "\n",
    "\n"
   ]
  },
  {
   "cell_type": "code",
   "execution_count": null,
   "metadata": {},
   "outputs": [],
   "source": [
    "\n",
    "\n",
    "\n"
   ]
  },
  {
   "cell_type": "code",
   "execution_count": null,
   "metadata": {},
   "outputs": [],
   "source": [
    "\n",
    "\n",
    "\n"
   ]
  },
  {
   "cell_type": "code",
   "execution_count": null,
   "metadata": {},
   "outputs": [],
   "source": [
    "\n",
    "\n",
    "\n"
   ]
  },
  {
   "cell_type": "code",
   "execution_count": null,
   "metadata": {},
   "outputs": [],
   "source": [
    "\n",
    "\n",
    "\n"
   ]
  },
  {
   "cell_type": "code",
   "execution_count": null,
   "metadata": {},
   "outputs": [],
   "source": [
    "\n",
    "\n",
    "\n"
   ]
  },
  {
   "cell_type": "code",
   "execution_count": null,
   "metadata": {},
   "outputs": [],
   "source": [
    "\n",
    "\n",
    "\n"
   ]
  },
  {
   "cell_type": "code",
   "execution_count": null,
   "metadata": {},
   "outputs": [],
   "source": [
    "\n",
    "\n",
    "\n"
   ]
  }
 ],
 "metadata": {
  "jupytext": {
   "cell_metadata_filter": "-all",
   "encoding": "# coding: utf-8",
   "executable": "/usr/bin/env python",
   "main_language": "python",
   "notebook_metadata_filter": "-all"
  },
  "kernelspec": {
   "display_name": "Python 3",
   "language": "python",
   "name": "python3"
  },
  "language_info": {
   "codemirror_mode": {
    "name": "ipython",
    "version": 3
   },
   "file_extension": ".py",
   "mimetype": "text/x-python",
   "name": "python",
   "nbconvert_exporter": "python",
   "pygments_lexer": "ipython3",
   "version": "3.7.3"
  }
 },
 "nbformat": 4,
 "nbformat_minor": 2
}
