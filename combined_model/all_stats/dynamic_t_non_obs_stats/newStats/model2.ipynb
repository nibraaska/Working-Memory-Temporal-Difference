{
 "cells": [
  {
   "cell_type": "code",
   "execution_count": null,
   "metadata": {},
   "outputs": [],
   "source": []
  },
  {
   "cell_type": "code",
   "execution_count": 1,
   "metadata": {
    "lines_to_next_cell": 2
   },
   "outputs": [],
   "source": [
    "\n",
    "\n",
    "import matplotlib as mpl\n",
    "import matplotlib.pyplot as plt\n",
    "\n",
    "import numpy as np\n",
    "np.set_printoptions(threshold=np.inf)\n",
    "\n",
    "import time, sys, random, pylab\n",
    "from math import fabs\n",
    "\n",
    "from random import randrange\n",
    "from random import choice\n",
    "\n",
    "from hrr import *\n",
    "\n",
    "from IPython.display import clear_output\n",
    "from sys import argv"
   ]
  },
  {
   "cell_type": "code",
   "execution_count": 2,
   "metadata": {},
   "outputs": [],
   "source": [
    "import os\n",
    "import glob\n",
    "from os import path"
   ]
  },
  {
   "cell_type": "code",
   "execution_count": 3,
   "metadata": {},
   "outputs": [],
   "source": [
    "files = glob.glob('plots/*')\n",
    "for f in files:\n",
    "    os.remove(f)\n",
    "    \n",
    "if path.exists('outputName.gif'):\n",
    "    os.remove('outputName.gif')"
   ]
  },
  {
   "cell_type": "code",
   "execution_count": 4,
   "metadata": {
    "lines_to_next_cell": 2
   },
   "outputs": [],
   "source": [
    "\n",
    "\n",
    "def seed(seed):\n",
    "    random.seed(seed)\n",
    "    np.random.seed(seed)"
   ]
  },
  {
   "cell_type": "code",
   "execution_count": null,
   "metadata": {
    "lines_to_next_cell": 2
   },
   "outputs": [],
   "source": []
  },
  {
   "cell_type": "code",
   "execution_count": 5,
   "metadata": {
    "lines_to_next_cell": 2
   },
   "outputs": [],
   "source": [
    "\n",
    "\n",
    "def plot_all_graphs(save=False, iteration=0):\n",
    "    get_ipython().run_line_magic('matplotlib', 'inline')\n",
    "    fig, axes = plt.subplots(nrows=num_of_atrs, ncols=num_obs_tasks+1)\n",
    "    fig.set_figwidth(15)\n",
    "    fig.set_figheight(15)\n",
    "    plt.rcParams.update({'font.size': 14})\n",
    "    \n",
    "    if num_of_atrs > 1:\n",
    "        for x in range(num_of_atrs):\n",
    "            x_ind = x\n",
    "            y_for_rwd = 0\n",
    "            y_for_no_rwd = 0\n",
    "\n",
    "            for wm in list(dict.fromkeys([signal + \"In\" if signal != \"I\" else signal for signal in signals] + [\"I\"])):\n",
    "                position = np.arange(size_of_maze)\n",
    "#                 value = np.zeros(size_of_maze)\n",
    "#                 for signal in signals + [\"I\"]:\n",
    "#                     lab = \"WM:\" + wm + \"*Signal:\" + signal + reward_tkn() + \"*Atr:\" + str(x)\n",
    "#                     for state in range(size_of_maze):\n",
    "#                         encode_str = build_hrr_string(wm, signal, str(state) + \"*rewardTkn\", x)\n",
    "#                         value[state] = np.dot(weights, ltm.encode(encode_str)) + bias\n",
    "#                     axes[x_ind,y_for_rwd].title.set_text(wm + \" with rewardTkn \" + \"Atr: \" + str(x))\n",
    "#                     axes[x_ind,y_for_rwd].plot(position, value, label=lab)\n",
    "#                     axes[x_ind,y_for_no_rwd].tick_params(direction='out', length=6, width=2,\n",
    "#                        grid_color='r', grid_alpha=0.5)\n",
    "#                     axes[x_ind,y_for_rwd].legend(loc='upper center', bbox_to_anchor=(0.5, -0.1),\n",
    "#                           fancybox=True, shadow=True, ncol=1, prop={'size': 10})\n",
    "#                 y_for_rwd += 1\n",
    "\n",
    "                y = x + 1\n",
    "                value = np.zeros(size_of_maze)\n",
    "                for signal in list(dict.fromkeys(signals + [\"I\"])):\n",
    "                    lab = \"WM:\" + wm + \"*Signal:\" + signal + \"*Atr:\" + str(x)\n",
    "                    for state in range(size_of_maze):\n",
    "                        encode_str = build_hrr_string(wm, signal, str(state), x)\n",
    "                        value[state] = np.dot(weights, ltm.encode(encode_str)) + bias\n",
    "                    axes[x_ind,y_for_no_rwd].title.set_text(wm + \" Atr: \" + str(x))\n",
    "                    axes[x_ind,y_for_no_rwd].plot(position, value, label=lab)\n",
    "                    axes[x_ind,y_for_no_rwd].tick_params(direction='out', length=6, width=2,\n",
    "                       grid_color='r', grid_alpha=0.5)\n",
    "                    axes[x_ind,y_for_no_rwd].legend(loc='upper center', bbox_to_anchor=(0.5, -0.1),\n",
    "                          fancybox=True, shadow=True, ncol=1, prop={'size': 10})\n",
    "                y_for_no_rwd += 1\n",
    "                \n",
    "    else:\n",
    "        for x in range(num_of_atrs):\n",
    "            x_ind = x\n",
    "            y_for_rwd = 0\n",
    "            y_for_no_rwd = 0\n",
    "\n",
    "            for wm in list(dict.fromkeys([signal + \"In\" if signal != \"I\" else signal for signal in signals] + [\"I\"])):\n",
    "                position = np.arange(size_of_maze)\n",
    "#                 value = np.zeros(size_of_maze)\n",
    "#                 for signal in signals + [\"I\"]:\n",
    "#                     lab = \"WM:\" + wm + \"*Signal:\" + signal + reward_tkn() + \"*Atr:\" + str(x)\n",
    "#                     for state in range(size_of_maze):\n",
    "#                         encode_str = build_hrr_string(wm, signal, str(state) + \"*rewardTkn\", x)\n",
    "#                         value[state] = np.dot(weights, ltm.encode(encode_str)) + bias\n",
    "#                     axes[y_for_no_rwd].title.set_text(wm + \" with rewardTkn \" + \"Atr: \" + str(x))\n",
    "#                     axes[y_for_no_rwd].plot(position, value, label=lab)\n",
    "#                     axes[y_for_no_rwd].tick_params(direction='out', length=6, width=2,\n",
    "#                        grid_color='r', grid_alpha=0.5)\n",
    "#                     axes[y_for_no_rwd].legend(loc='upper center', bbox_to_anchor=(0.5, -0.1),\n",
    "#                           fancybox=True, shadow=True, ncol=1, prop={'size': 10})\n",
    "#                 y_for_rwd += 1\n",
    "\n",
    "                y = x + 1\n",
    "                value = np.zeros(size_of_maze)\n",
    "                for signal in list(dict.fromkeys(signals + [\"I\"])):\n",
    "                    lab = \"WM:\" + wm + \"*Signal:\" + signal + \"*Atr:\" + str(x)\n",
    "                    for state in range(size_of_maze):\n",
    "                        encode_str = build_hrr_string(wm, signal, str(state), x)\n",
    "                        value[state] = np.dot(weights, ltm.encode(encode_str)) + bias\n",
    "                    axes[y_for_no_rwd].title.set_text(wm + \" Atr: \" + str(x))\n",
    "                    axes[y_for_no_rwd].plot(position, value, label=lab)\n",
    "                    axes[y_for_no_rwd].tick_params(direction='out', length=6, width=2,\n",
    "                       grid_color='r', grid_alpha=0.5)\n",
    "                    axes[y_for_no_rwd].legend(loc='upper center', bbox_to_anchor=(0.5, -0.1),\n",
    "                          fancybox=True, shadow=True, ncol=1, prop={'size': 10})\n",
    "                y_for_no_rwd += 1\n",
    "\n",
    "    plt.title(iteration)\n",
    "    plt.tight_layout(rect=[0, 0.03, 1, 0.95])\n",
    "    if save:\n",
    "        plt.savefig(\"plots/run_{0}\".format(iteration), dpi=fig.dpi)\n",
    "    else:\n",
    "        plt.show()\n",
    "    \n",
    "def plot_graph(data):\n",
    "    get_ipython().run_line_magic('matplotlib', 'inline')\n",
    "    plt.plot(data)\n",
    "    plt.show()\n",
    "    \n",
    "def live_graphs():\n",
    "    get_ipython().run_line_magic('matplotlib', 'qt')\n",
    "    mpl.rcParams['axes.prop_cycle'] = mpl.cycler(color=[\"r\", \"g\", \"b\", \"y\"]) \n",
    "    fig, axes = plt.subplots(nrows=num_of_atrs, ncols=num_obs_tasks+1)\n",
    "    \n",
    "    if num_of_atrs > 1:\n",
    "        for x in range(num_of_atrs):\n",
    "            x_ind = x\n",
    "            y_for_no_rwd = 0\n",
    "            for wm in list(dict.fromkeys([signal + \"In\" if signal != \"I\" else signal for signal in signals] + [\"I\"])):\n",
    "                position = np.arange(size_of_maze)\n",
    "                value = np.zeros(size_of_maze)\n",
    "                for signal in list(dict.fromkeys(signals + [\"I\"])):\n",
    "                    lab = \"WM:\" + wm + \"*Signal:\" + signal + \"*Atr:\" + str(x)\n",
    "                    for state in range(size_of_maze):\n",
    "                        encode_str = build_hrr_string(wm, signal, str(state), x)\n",
    "                        value[state] = np.dot(weights, ltm.encode(encode_str)) + bias\n",
    "                    axes[x_ind,y_for_no_rwd].title.set_text(wm + \" Atr: \" + str(x))\n",
    "                    axes[x_ind,y_for_no_rwd].plot(position, value, label=lab)\n",
    "                    axes[x_ind,y_for_no_rwd].tick_params(direction='out', length=6, width=2,\n",
    "                       grid_color='r', grid_alpha=0.5)\n",
    "                    axes[x_ind,y_for_no_rwd].legend(loc='upper center', bbox_to_anchor=(0.5, -0.1),\n",
    "                          fancybox=True, shadow=True, ncol=1, prop={'size': 10})\n",
    "                y_for_no_rwd += 1\n",
    "    else:\n",
    "        for x in range(num_of_atrs):\n",
    "            x_ind = x\n",
    "            y_for_no_rwd = 0\n",
    "            for wm in list(dict.fromkeys([signal + \"In\" if signal != \"I\" else signal for signal in signals] + [\"I\"])):\n",
    "                position = np.arange(size_of_maze)\n",
    "                value = np.zeros(size_of_maze)\n",
    "                for signal in list(dict.fromkeys(signals + [\"I\"])):\n",
    "                    lab = \"WM:\" + wm + \"*Signal:\" + signal + \"*Atr:\" + str(x)\n",
    "                    for state in range(size_of_maze):\n",
    "                        encode_str = build_hrr_string(wm, signal, str(state), x)\n",
    "                        value[state] = np.dot(weights, ltm.encode(encode_str)) + bias\n",
    "                    axes[y_for_no_rwd].title.set_text(wm + \" Atr: \" + str(x))\n",
    "                    axes[y_for_no_rwd].plot(position, value, label=lab)\n",
    "                    axes[y_for_no_rwd].tick_params(direction='out', length=6, width=2,\n",
    "                       grid_color='r', grid_alpha=0.5)\n",
    "                    axes[y_for_no_rwd].legend(loc='upper center', bbox_to_anchor=(0.5, -0.1),\n",
    "                          fancybox=True, shadow=True, ncol=1, prop={'size': 10})\n",
    "                y_for_no_rwd += 1 \n",
    "    plt.tight_layout(rect=[0, 0.03, 1, 0.95])\n",
    "    ani = animation.FuncAnimation(fig, animate, interval=60000)\n",
    "    plt.show()\n",
    "    plt.suptitle(\"{0} Non-Observable tasks and {1} Observable tasks with goals: {2}\".format(num_non_obs_tasks, num_obs_tasks, goals), fontsize=30)\n",
    "    \n",
    "def animate(i):\n",
    "    if num_of_atrs > 1:\n",
    "        for x in range(num_of_atrs):\n",
    "            x_ind = x\n",
    "            y_for_no_rwd = 0\n",
    "            for wm in list(dict.fromkeys([signal + \"In\" if signal != \"I\" else signal for signal in signals] + [\"I\"])):\n",
    "                position = np.arange(size_of_maze)\n",
    "                value = np.zeros(size_of_maze)\n",
    "                for signal in list(dict.fromkeys(signals + [\"I\"])):\n",
    "                    lab = \"WM:\" + wm + \"*Signal:\" + signal + \"*Atr:\" + str(x)\n",
    "                    for state in range(size_of_maze):\n",
    "                        encode_str = build_hrr_string(wm, signal, str(state), x)\n",
    "                        value[state] = np.dot(weights, ltm.encode(encode_str)) + bias\n",
    "                    axes[x_ind,y_for_no_rwd].title.set_text(wm + \" Atr: \" + str(x))\n",
    "                    axes[x_ind,y_for_no_rwd].plot(position, value, label=lab)\n",
    "                    axes[x_ind,y_for_no_rwd].tick_params(direction='out', length=6, width=2,\n",
    "                       grid_color='r', grid_alpha=0.5)\n",
    "                    axes[x_ind,y_for_no_rwd].legend(loc='upper center', bbox_to_anchor=(0.5, -0.1),\n",
    "                          fancybox=True, shadow=True, ncol=1, prop={'size': 10})\n",
    "                y_for_no_rwd += 1\n",
    "    else:\n",
    "        for x in range(num_of_atrs):\n",
    "            x_ind = x\n",
    "            y_for_no_rwd = 0\n",
    "            for wm in list(dict.fromkeys([signal + \"In\" if signal != \"I\" else signal for signal in signals] + [\"I\"])):\n",
    "                position = np.arange(size_of_maze)\n",
    "                value = np.zeros(size_of_maze)\n",
    "                for signal in list(dict.fromkeys(signals + [\"I\"])):\n",
    "                    lab = \"WM:\" + wm + \"*Signal:\" + signal + \"*Atr:\" + str(x)\n",
    "                    for state in range(size_of_maze):\n",
    "                        encode_str = build_hrr_string(wm, signal, str(state), x)\n",
    "                        value[state] = np.dot(weights, ltm.encode(encode_str)) + bias\n",
    "                    axes[y_for_no_rwd].title.set_text(wm + \" Atr: \" + str(x))\n",
    "                    axes[y_for_no_rwd].plot(position, value, label=lab)\n",
    "                    axes[y_for_no_rwd].tick_params(direction='out', length=6, width=2,\n",
    "                       grid_color='r', grid_alpha=0.5)\n",
    "                    axes[y_for_no_rwd].legend(loc='upper center', bbox_to_anchor=(0.5, -0.1),\n",
    "                          fancybox=True, shadow=True, ncol=1, prop={'size': 10})\n",
    "                y_for_no_rwd += 1\n",
    "    plt.tight_layout(rect=[0, 0.03, 1, 0.95])"
   ]
  },
  {
   "cell_type": "code",
   "execution_count": 6,
   "metadata": {
    "lines_to_next_cell": 2
   },
   "outputs": [],
   "source": [
    "\n",
    "\n",
    "def update_progress(progress, episode):\n",
    "    bar_length = 50\n",
    "    if isinstance(progress, int):\n",
    "        progress = float(progress)\n",
    "    if not isinstance(progress, float):\n",
    "        progress = 0\n",
    "    if progress < 0:\n",
    "        progress = 0\n",
    "    if progress >= 1:\n",
    "        progress = 1\n",
    "\n",
    "    block = int(round(bar_length * progress))\n",
    "\n",
    "    clear_output(wait = True)\n",
    "    text = \"Episode {0}, Progress: [{1}] {2:.1f}%\".format(episode, \"=\" * block + \".\" * (bar_length - block), progress * 100)\n",
    "    print(text)"
   ]
  },
  {
   "cell_type": "code",
   "execution_count": 7,
   "metadata": {
    "lines_to_next_cell": 2
   },
   "outputs": [],
   "source": [
    "\n",
    "\n",
    "def get_moves(state, size_of_maze):\n",
    "    if(state == 0):\n",
    "        return size_of_maze - 1, 1\n",
    "    elif(state == size_of_maze - 1):\n",
    "        return size_of_maze - 2, 0\n",
    "    else:\n",
    "        return state - 1, state + 1"
   ]
  },
  {
   "cell_type": "code",
   "execution_count": 8,
   "metadata": {
    "lines_to_next_cell": 2
   },
   "outputs": [],
   "source": [
    "\n",
    "\n",
    "def build_hrr_string(wm, signal, state, atr):\n",
    "    if wm == \"I\" and signal == \"I\":\n",
    "        return \"State:\" + str(state) + \"*\" + \"Atr:\" + str(atr)\n",
    "    elif wm == \"I\":\n",
    "        return \"Signal:\" + str(signal) + \"*\" + \"State:\" + str(state) + \"*\" + \"Atr:\" + str(atr)\n",
    "    elif signal == \"I\":\n",
    "        return \"WM:\" + str(wm) + \"*\" + \"State:\" + str(state) + \"*\" + \"Atr:\" + str(atr)\n",
    "    else:\n",
    "        return \"WM:\" + str(wm) + \"*\" + \"Signal:\" + str(signal) + \"*\" + \"State:\" + str(state) + \"*\" + \"Atr:\" + str(atr)"
   ]
  },
  {
   "cell_type": "code",
   "execution_count": 9,
   "metadata": {
    "lines_to_next_cell": 2
   },
   "outputs": [],
   "source": [
    "def context_policy_negative(atr, num_of_atrs):\n",
    "    return np.random.randint(low=0, high=num_of_atrs)\n",
    "\n",
    "def context_policy_positive(wm, signal, state, atr, num_of_atrs, weights, ltm, bias):\n",
    "    val = -9999\n",
    "    for atr in range(0, num_of_atrs):\n",
    "        encode_str = build_hrr_string(wm, signal, state, atr)\n",
    "        temp = np.dot(weights, ltm.encode(encode_str)) + bias\n",
    "        if temp > val:\n",
    "            val = temp\n",
    "            s_atr = atr\n",
    "    return s_atr"
   ]
  },
  {
   "cell_type": "code",
   "execution_count": 10,
   "metadata": {
    "lines_to_next_cell": 2
   },
   "outputs": [],
   "source": [
    "\n",
    "\n",
    "def reward_tkn():\n",
    "    return \"*rewardTkn\""
   ]
  },
  {
   "cell_type": "code",
   "execution_count": 11,
   "metadata": {
    "lines_to_next_cell": 2
   },
   "outputs": [],
   "source": [
    "def move_policy(goal, moves, wms, signals, atr, rand_on, debug, weights, bias, ltm, e_soft):\n",
    "    val = -9999\n",
    "    for move in moves:\n",
    "        for wm in list(dict.fromkeys(wms + [\"I\"])):\n",
    "            for signal in list(dict.fromkeys(signals + [\"I\"])):\n",
    "                if move == goal:\n",
    "                    encode_str = build_hrr_string(wm, signal, str(move) + reward_tkn(), atr)\n",
    "                else:\n",
    "                    encode_str = build_hrr_string(wm, signal, move, atr)\n",
    "                if (debug):\n",
    "                    print(encode_str)\n",
    "                temp = np.dot(weights, ltm.encode(encode_str)) + bias\n",
    "                if debug:\n",
    "                    if signal != \"I\":\n",
    "                        print(\"Move: {0}, WM: {1}, Signal: {2}In, Atr: {3}, Value: {4}\".format(move, wm, signal, atr, temp))\n",
    "                    else:\n",
    "                        print(\"Move: {0}, WM: {1}, Signal: {2}, Atr: {3}, Value: {4}\".format(move, wm, signal, atr, temp))\n",
    "                if temp > val:\n",
    "                    val = temp\n",
    "                    s_move = move\n",
    "                    if signal != \"I\":\n",
    "                        s_wm = signal + \"In\"\n",
    "                    else:\n",
    "                        s_wm = wm\n",
    "    if(np.random.random_sample() < e_soft) and rand_on:\n",
    "        if(debug):\n",
    "            print(\"RANDOM MOVE\")\n",
    "        return (np.random.choice(moves), wms[0], atr, True)\n",
    "    \n",
    "    return (s_move, s_wm, atr, False)"
   ]
  },
  {
   "cell_type": "code",
   "execution_count": 12,
   "metadata": {
    "lines_to_next_cell": 2
   },
   "outputs": [],
   "source": [
    "\n",
    "\n",
    "def logmod(x):\n",
    "    return np.sign(x)*np.log(abs(x)+1)"
   ]
  },
  {
   "cell_type": "code",
   "execution_count": 13,
   "metadata": {
    "lines_to_next_cell": 2
   },
   "outputs": [],
   "source": [
    "\n",
    "\n",
    "def get_opt_steps(start, goal, size_of_maze):\n",
    "    opt = abs(goal - start)\n",
    "    if opt > size_of_maze / 2:\n",
    "        opt = size_of_maze - opt\n",
    "    return opt"
   ]
  },
  {
   "cell_type": "code",
   "execution_count": 14,
   "metadata": {
    "lines_to_next_cell": 2
   },
   "outputs": [],
   "source": [
    "def start_testing(): \n",
    "    testing = True\n",
    "    rand_on = 0\n",
    "    alpha = 0.01\n",
    "    threshold_alpha = 0\n",
    "    atr_alpha = 0\n",
    "    return testing, rand_on, alpha, threshold_alpha, atr_alpha"
   ]
  },
  {
   "cell_type": "code",
   "execution_count": 15,
   "metadata": {
    "lines_to_next_cell": 2
   },
   "outputs": [],
   "source": [
    "def reset(method, seed_val, num_of_atrs, atr_values, threshold, hrr_length, ltm, weights, eligibility, reward_good, dynamic_threshold, normalized):\n",
    "\n",
    "#     seed(seed_val)\n",
    "#     num_of_atrs += 1\n",
    "#     atr_values = [1 * reward_good] * num_of_atrs\n",
    "#     if dynamic_threshold:\n",
    "#         threshold = 1\n",
    "        \n",
    "#     if method == 1:\n",
    "#         hrr_length = (num_of_atrs * hrr_length) / (num_of_atrs - 1)\n",
    "#         store_old = ltm.getStore()\n",
    "#         weights_new = hrr(int(hrr_length), normalized)\n",
    "#         ltm_new = LTM(int(hrr_length), normalized)\n",
    "\n",
    "#         inv = np.linalg.pinv(np.atleast_2d(weights_new))\n",
    "#         for key in store_old.keys():\n",
    "#             key_val = store_old[key]\n",
    "#             val = np.dot(weights, key_val)\n",
    "#             guess = np.dot(inv, val).ravel()\n",
    "#             ltm_new.encode_val(key, guess)      \n",
    "        \n",
    "#     elif method == 2:\n",
    "#         hrr_length = (num_of_atrs * hrr_length) / (num_of_atrs - 1)\n",
    "#         store_old = ltm.getStore()\n",
    "#         ltm_new = LTM(int(hrr_length), normalized)\n",
    "\n",
    "#         new_hrrs = hrrs(hrr_length, ltm.count(), normalized)\n",
    "#         vals = []\n",
    "#         for key in store_old.keys():\n",
    "#             key_val = store_old[key]\n",
    "#             vals += [np.dot(weights, key_val)]  \n",
    "#         s = np.linalg.pinv(new_hrrs)\n",
    "#         weights_new = np.asarray(np.dot(s,np.atleast_2d(vals).T)).ravel()\n",
    "\n",
    "#         i = 0\n",
    "#         for key in store_old.keys():\n",
    "#             ltm_new.encode_val(key, new_hrrs[i])\n",
    "#             i+=1\n",
    "            \n",
    "#     ltm = ltm_new\n",
    "#     weights = weights_new\n",
    "#     eligibility = np.zeros(int(hrr_length))\n",
    "\n",
    "    return num_of_atrs, atr_values, threshold, hrr_length, ltm, weights, eligibility"
   ]
  },
  {
   "cell_type": "code",
   "execution_count": 16,
   "metadata": {
    "lines_to_next_cell": 2
   },
   "outputs": [],
   "source": [
    "method = 1\n",
    "seed_val = 1343\n",
    "seed(seed_val)\n",
    "episodes = 100000\n",
    "hrr_length = 10240\n",
    "normalized = True\n",
    "steps_till_quit = 100\n",
    "signals = [\"I\"]\n",
    "goals = [[0], [4], [7], [10], [13]]\n",
    "size_of_maze = 20\n",
    "non_obs_task_switch_rate = 500\n",
    "num_non_obs_tasks = len(goals)\n",
    "num_obs_tasks = len(signals)\n",
    "input_size = hrr_length\n",
    "output_size = 1\n",
    "discount = 0.7\n",
    "alpha = 0.3\n",
    "reward_bad = -1\n",
    "reward_good = 0\n",
    "num_of_atrs = 5\n",
    "atr_alpha = 0.0018\n",
    "atr_values = (np.ones(num_of_atrs) * reward_good).tolist()\n",
    "atr_threshold = -0.3\n",
    "threshold = 1\n",
    "threshold_alpha = 0.0001\n",
    "dynamic_threshold = True\n",
    "e_soft = 0.00001\n",
    "rand_on = 1\n",
    "eli_lambda = 0.15\n",
    "weights = hrr(hrr_length, normalized)\n",
    "bias = 1\n",
    "eligibility = np.zeros(hrr_length)\n",
    "percent_check = 9\n",
    "non_obs = 0\n",
    "current_atr = 0\n",
    "current_wm = \"I\"\n",
    "changed = False\n",
    "debug = False\n",
    "testing = False\n",
    "create_plots = True\n",
    "episodic_memory = False\n",
    "step_store = []\n",
    "if create_plots:\n",
    "    pos_err_store = []\n",
    "    neg_err_store = []\n",
    "    total_error = []\n",
    "    total_goal_error = []\n",
    "    switch_error = []\n",
    "    norm_error = []\n",
    "    threshold_vals = []\n",
    "live_graph = False\n",
    "ltm = LTM(hrr_length, normalized)"
   ]
  },
  {
   "cell_type": "code",
   "execution_count": 17,
   "metadata": {
    "lines_to_next_cell": 2
   },
   "outputs": [],
   "source": [
    "\n",
    "\n",
    "# start_time = time.time()"
   ]
  },
  {
   "cell_type": "code",
   "execution_count": 18,
   "metadata": {
    "lines_to_next_cell": 2
   },
   "outputs": [
    {
     "name": "stdout",
     "output_type": "stream",
     "text": [
      "Episode 36276, Progress: [==================................................] 36.3%\n"
     ]
    },
    {
     "ename": "KeyboardInterrupt",
     "evalue": "",
     "output_type": "error",
     "traceback": [
      "\u001b[0;31m---------------------------------------------------------------------------\u001b[0m",
      "\u001b[0;31mKeyboardInterrupt\u001b[0m                         Traceback (most recent call last)",
      "\u001b[0;32m<ipython-input-18-ecbe458e9e06>\u001b[0m in \u001b[0;36m<module>\u001b[0;34m\u001b[0m\n\u001b[1;32m     79\u001b[0m \u001b[0;34m\u001b[0m\u001b[0m\n\u001b[1;32m     80\u001b[0m         \u001b[0;31m# Make the move\u001b[0m\u001b[0;34m\u001b[0m\u001b[0;34m\u001b[0m\u001b[0;34m\u001b[0m\u001b[0m\n\u001b[0;32m---> 81\u001b[0;31m         \u001b[0mmove\u001b[0m\u001b[0;34m,\u001b[0m \u001b[0mwm\u001b[0m\u001b[0;34m,\u001b[0m \u001b[0mcurrent_atr\u001b[0m\u001b[0;34m,\u001b[0m \u001b[0mrandom_move\u001b[0m \u001b[0;34m=\u001b[0m \u001b[0mmove_policy\u001b[0m\u001b[0;34m(\u001b[0m\u001b[0mgoal\u001b[0m\u001b[0;34m,\u001b[0m \u001b[0;34m[\u001b[0m\u001b[0mleft\u001b[0m\u001b[0;34m,\u001b[0m \u001b[0mright\u001b[0m\u001b[0;34m]\u001b[0m\u001b[0;34m,\u001b[0m \u001b[0;34m[\u001b[0m\u001b[0mprevious_wm\u001b[0m\u001b[0;34m,\u001b[0m \u001b[0mprevious_signal\u001b[0m\u001b[0;34m]\u001b[0m\u001b[0;34m,\u001b[0m \u001b[0;34m[\u001b[0m\u001b[0mcurrent_signal\u001b[0m\u001b[0;34m]\u001b[0m\u001b[0;34m,\u001b[0m \u001b[0mprevious_atr\u001b[0m\u001b[0;34m,\u001b[0m \u001b[0mrand_on\u001b[0m\u001b[0;34m,\u001b[0m \u001b[0mdebug\u001b[0m\u001b[0;34m,\u001b[0m \u001b[0mweights\u001b[0m\u001b[0;34m,\u001b[0m \u001b[0mbias\u001b[0m\u001b[0;34m,\u001b[0m \u001b[0mltm\u001b[0m\u001b[0;34m,\u001b[0m \u001b[0me_soft\u001b[0m\u001b[0;34m)\u001b[0m\u001b[0;34m\u001b[0m\u001b[0;34m\u001b[0m\u001b[0m\n\u001b[0m\u001b[1;32m     82\u001b[0m         \u001b[0msteps\u001b[0m \u001b[0;34m+=\u001b[0m \u001b[0;36m1\u001b[0m\u001b[0;34m\u001b[0m\u001b[0;34m\u001b[0m\u001b[0m\n\u001b[1;32m     83\u001b[0m         \u001b[0mcurrent_wm\u001b[0m \u001b[0;34m=\u001b[0m \u001b[0mwm\u001b[0m\u001b[0;34m\u001b[0m\u001b[0;34m\u001b[0m\u001b[0m\n",
      "\u001b[0;32m<ipython-input-11-bb356e47f3ea>\u001b[0m in \u001b[0;36mmove_policy\u001b[0;34m(goal, moves, wms, signals, atr, rand_on, debug, weights, bias, ltm, e_soft)\u001b[0m\n\u001b[1;32m     10\u001b[0m                 \u001b[0;32mif\u001b[0m \u001b[0;34m(\u001b[0m\u001b[0mdebug\u001b[0m\u001b[0;34m)\u001b[0m\u001b[0;34m:\u001b[0m\u001b[0;34m\u001b[0m\u001b[0;34m\u001b[0m\u001b[0m\n\u001b[1;32m     11\u001b[0m                     \u001b[0mprint\u001b[0m\u001b[0;34m(\u001b[0m\u001b[0mencode_str\u001b[0m\u001b[0;34m)\u001b[0m\u001b[0;34m\u001b[0m\u001b[0;34m\u001b[0m\u001b[0m\n\u001b[0;32m---> 12\u001b[0;31m                 \u001b[0mtemp\u001b[0m \u001b[0;34m=\u001b[0m \u001b[0mnp\u001b[0m\u001b[0;34m.\u001b[0m\u001b[0mdot\u001b[0m\u001b[0;34m(\u001b[0m\u001b[0mweights\u001b[0m\u001b[0;34m,\u001b[0m \u001b[0mltm\u001b[0m\u001b[0;34m.\u001b[0m\u001b[0mencode\u001b[0m\u001b[0;34m(\u001b[0m\u001b[0mencode_str\u001b[0m\u001b[0;34m)\u001b[0m\u001b[0;34m)\u001b[0m \u001b[0;34m+\u001b[0m \u001b[0mbias\u001b[0m\u001b[0;34m\u001b[0m\u001b[0;34m\u001b[0m\u001b[0m\n\u001b[0m\u001b[1;32m     13\u001b[0m                 \u001b[0;32mif\u001b[0m \u001b[0mdebug\u001b[0m\u001b[0;34m:\u001b[0m\u001b[0;34m\u001b[0m\u001b[0;34m\u001b[0m\u001b[0m\n\u001b[1;32m     14\u001b[0m                     \u001b[0;32mif\u001b[0m \u001b[0msignal\u001b[0m \u001b[0;34m!=\u001b[0m \u001b[0;34m\"I\"\u001b[0m\u001b[0;34m:\u001b[0m\u001b[0;34m\u001b[0m\u001b[0;34m\u001b[0m\u001b[0m\n",
      "\u001b[0;32m<__array_function__ internals>\u001b[0m in \u001b[0;36mdot\u001b[0;34m(*args, **kwargs)\u001b[0m\n",
      "\u001b[0;31mKeyboardInterrupt\u001b[0m: "
     ]
    }
   ],
   "source": [
    "for x in range(episodes):\n",
    "        \n",
    "    # Initial state\n",
    "    current_state = random.randint(0, size_of_maze - 1)\n",
    "    start = current_state\n",
    "    current_signal = np.random.choice(signals)\n",
    "    eligibility *= 0.0\n",
    "    \n",
    "    if episodic_memory:\n",
    "        episode_memory = []\n",
    "    \n",
    "    changed = False\n",
    "    \n",
    "    # Set the goal for the tast\n",
    "    if x%non_obs_task_switch_rate == 0:\n",
    "        non_obs = choice([i for i in range(len(goals)) if i not in [non_obs]])\n",
    "        changed = True\n",
    "    if num_obs_tasks == 1:\n",
    "        goal = goals[non_obs][0]\n",
    "    else:\n",
    "        goal = goals[non_obs][signals.index(current_signal)]\n",
    "        \n",
    "    steps = 0\n",
    "    opt_steps = get_opt_steps(current_state, goal, size_of_maze)\n",
    "    \n",
    "    # Start testing phase\n",
    "    if testing == False and x > ((episodes*percent_check) / 10):\n",
    "        testing, rand_on, alpha, threshold_alpha, atr_alpha = start_testing()\n",
    "        \n",
    "    for y in range(steps_till_quit):\n",
    "        if create_plots:\n",
    "            threshold_vals += [threshold]\n",
    "        if (current_state == goal):\n",
    "            encode_str = build_hrr_string(current_wm, current_signal, str(current_state) + reward_tkn(), current_atr)\n",
    "            goal_hrr = ltm.encode(encode_str)\n",
    "            goal_value = np.dot(weights, goal_hrr) + bias\n",
    "            \n",
    "            if episodic_memory:\n",
    "                episode_memory += [[current_state, goal_value, goal]]\n",
    "\n",
    "            error = reward_good - goal_value\n",
    "            eligibility *= eli_lambda\n",
    "            eligibility = eligibility + goal_hrr\n",
    "            weights = np.add(weights, (alpha * logmod(error) * eligibility))\n",
    "            \n",
    "            if dynamic_threshold:\n",
    "                threshold += threshold_alpha * logmod(error)\n",
    "                \n",
    "            atr_values[current_atr] += atr_alpha * logmod(error)\n",
    "            \n",
    "            if create_plots:\n",
    "                total_goal_error += [error]\n",
    "            \n",
    "            if(debug):\n",
    "                print(\"In goal with value {0}\".format(goal_value))\n",
    "            \n",
    "            break\n",
    "            \n",
    "        # Store info about previous state      \n",
    "        previous_wm = current_wm\n",
    "        previous_signal = current_signal\n",
    "        previous_state = current_state\n",
    "        previous_atr = current_atr\n",
    "        \n",
    "        if debug:\n",
    "            print(\"Previous WM:, {0}, Signal:, {1}, State, {2}, ATR:, {3}\".format(previous_wm, previous_signal, previous_state, previous_atr))\n",
    "        \n",
    "        encode_str = build_hrr_string(previous_wm, previous_signal, previous_state, previous_atr)\n",
    "        previous_state_hrr = ltm.encode(encode_str)\n",
    "        previous_value = np.dot(weights, previous_state_hrr) + bias\n",
    "        \n",
    "        if debug:\n",
    "            print(\"Started with state: {0}, State Value: {1}, WM: {2},  Atr: {3}\".format(previous_state, previous_value, previous_wm, previous_atr))\n",
    "            \n",
    "        current_signal = \"I\"\n",
    "        left, right = get_moves(previous_state, size_of_maze)\n",
    "        if previous_signal != \"I\":\n",
    "            previous_signal += \"In\"\n",
    "            \n",
    "        # Make the move\n",
    "        move, wm, current_atr, random_move = move_policy(goal, [left, right], [previous_wm, previous_signal], [current_signal], previous_atr, rand_on, debug, weights, bias, ltm, e_soft)\n",
    "        steps += 1\n",
    "        current_wm = wm\n",
    "        current_state = move\n",
    "        \n",
    "        if random_move:\n",
    "            eligibility *= 0.0\n",
    "            \n",
    "        if(debug):\n",
    "            print(\"Moves {0}, taken {1}\".format([left, right], move))\n",
    "            \n",
    "        if debug:\n",
    "            print(\"Current WM {0}, Current Signal {1}, Current state {2}, Current ATR {3}\".format(current_wm, current_signal, current_state, current_atr))\n",
    "            \n",
    "        if current_state == goal:\n",
    "            encode_str = build_hrr_string(current_wm, current_signal, str(current_state) + reward_tkn(), current_atr)     \n",
    "            if debug:\n",
    "                print(\"In goal: WM: {1}, ATR: {2}\".format(current_wm, current_atr))\n",
    "        else:\n",
    "            encode_str = build_hrr_string(current_wm, current_signal, current_state, current_atr)\n",
    "            \n",
    "        current_state_hrr = ltm.encode(encode_str)\n",
    "        current_value = np.dot(weights, current_state_hrr) + bias\n",
    "        \n",
    "        sarsa_error = (reward_bad + discount * current_value) - previous_value\n",
    "        eligibility *= eli_lambda\n",
    "        eligibility = eligibility + previous_state_hrr\n",
    "        weights = np.add(weights, (alpha * logmod(sarsa_error) * eligibility))\n",
    "\n",
    "        atr_values[current_atr] += atr_alpha * logmod(sarsa_error)\n",
    "        \n",
    "        if dynamic_threshold:\n",
    "            threshold += threshold_alpha * logmod(sarsa_error)\n",
    "        \n",
    "        if create_plots:\n",
    "            total_error += [sarsa_error]\n",
    "            norm_error += [sarsa_error]\n",
    "        \n",
    "        if sarsa_error > fabs(threshold) or sarsa_error < -fabs(threshold):\n",
    "            \n",
    "            if np.mean(atr_values) < atr_threshold:\n",
    "                num_of_atrs, atr_values, threshold, hrr_length, ltm, weights, eligibility = reset(method, seed_val, num_of_atrs, atr_values, threshold, hrr_length, ltm, weights, eligibility, reward_good, dynamic_threshold, normalized)\n",
    "            \n",
    "            if create_plots:\n",
    "                switch_error += [sarsa_error]\n",
    "            \n",
    "            if create_plots:\n",
    "                if testing and sarsa_error > fabs(threshold):\n",
    "                    pos_err_store += [sarsa_error]\n",
    "                elif testing and sarsa_error < -fabs(threshold):\n",
    "                    neg_err_store += [sarsa_error]\n",
    "                \n",
    "            if sarsa_error > fabs(threshold):\n",
    "                current_atr = context_policy_positive(current_wm, current_signal, current_state, current_atr, num_of_atrs, weights, ltm, bias)\n",
    "            elif sarsa_error < -fabs(threshold):\n",
    "                current_atr = context_policy_negative(previous_atr, num_of_atrs)\n",
    "            \n",
    "            eligibility *= 0.0\n",
    "            \n",
    "            if changed:\n",
    "                steps = 0\n",
    "                start = current_state\n",
    "                opt_steps = get_opt_steps(current_state, goal, size_of_maze)\n",
    "                \n",
    "            if(debug):\n",
    "                print(\"Changed atr from {0} to {1}\".format(previous_atr, current_atr))\n",
    "                \n",
    "        if debug:\n",
    "            input(\"\")\n",
    "        \n",
    "    if testing:\n",
    "        if current_state == goal:\n",
    "            step_store += [steps - opt_steps]\n",
    "        else:\n",
    "            step_store += [steps_till_quit]\n",
    "            \n",
    "    update_progress(x / episodes, x)\n",
    "    \n",
    "update_progress(1, episodes)"
   ]
  },
  {
   "cell_type": "code",
   "execution_count": null,
   "metadata": {
    "lines_to_next_cell": 2
   },
   "outputs": [],
   "source": [
    "\n",
    "\n",
    "# end_time = time.time()\n",
    "# print(\"Total time: {0} minutes\".format((end_time - start_time)/60))"
   ]
  },
  {
   "cell_type": "code",
   "execution_count": 19,
   "metadata": {
    "lines_to_next_cell": 2
   },
   "outputs": [
    {
     "data": {
      "image/png": "[encoded data removed]",
      "text/plain": [
       "<Figure size 432x288 with 1 Axes>"
      ]
     },
     "metadata": {
      "needs_background": "light"
     },
     "output_type": "display_data"
    },
    {
     "ename": "ZeroDivisionError",
     "evalue": "float division by zero",
     "output_type": "error",
     "traceback": [
      "\u001b[0;31m---------------------------------------------------------------------------\u001b[0m",
      "\u001b[0;31mZeroDivisionError\u001b[0m                         Traceback (most recent call last)",
      "\u001b[0;32m<ipython-input-19-0080e390e64b>\u001b[0m in \u001b[0;36m<module>\u001b[0;34m\u001b[0m\n\u001b[1;32m      1\u001b[0m \u001b[0mplot_graph\u001b[0m\u001b[0;34m(\u001b[0m\u001b[0mstep_store\u001b[0m\u001b[0;34m)\u001b[0m\u001b[0;34m\u001b[0m\u001b[0;34m\u001b[0m\u001b[0m\n\u001b[0;32m----> 2\u001b[0;31m \u001b[0maccuracy\u001b[0m \u001b[0;34m=\u001b[0m \u001b[0;34m(\u001b[0m\u001b[0mlen\u001b[0m\u001b[0;34m(\u001b[0m\u001b[0mstep_store\u001b[0m\u001b[0;34m)\u001b[0m\u001b[0;34m-\u001b[0m\u001b[0mnp\u001b[0m\u001b[0;34m.\u001b[0m\u001b[0mcount_nonzero\u001b[0m\u001b[0;34m(\u001b[0m\u001b[0mstep_store\u001b[0m\u001b[0;34m)\u001b[0m\u001b[0;34m)\u001b[0m\u001b[0;34m*\u001b[0m\u001b[0;36m100.0\u001b[0m \u001b[0;34m/\u001b[0m \u001b[0mlen\u001b[0m\u001b[0;34m(\u001b[0m\u001b[0mstep_store\u001b[0m\u001b[0;34m)\u001b[0m\u001b[0;34m\u001b[0m\u001b[0;34m\u001b[0m\u001b[0m\n\u001b[0m\u001b[1;32m      3\u001b[0m \u001b[0mprint\u001b[0m\u001b[0;34m(\u001b[0m\u001b[0maccuracy\u001b[0m\u001b[0;34m)\u001b[0m\u001b[0;34m\u001b[0m\u001b[0;34m\u001b[0m\u001b[0m\n",
      "\u001b[0;31mZeroDivisionError\u001b[0m: float division by zero"
     ]
    }
   ],
   "source": [
    "\n",
    "\n",
    "plot_graph(step_store)\n",
    "accuracy = (len(step_store)-np.count_nonzero(step_store))*100.0 / len(step_store)\n",
    "print(accuracy)"
   ]
  },
  {
   "cell_type": "code",
   "execution_count": 20,
   "metadata": {
    "lines_to_next_cell": 2
   },
   "outputs": [
    {
     "data": {
      "image/png": "[encoded data removed]",
      "text/plain": [
       "<Figure size 1080x1080 with 10 Axes>"
      ]
     },
     "metadata": {
      "needs_background": "light"
     },
     "output_type": "display_data"
    }
   ],
   "source": [
    "\n",
    "\n",
    "plot_all_graphs()"
   ]
  },
  {
   "cell_type": "code",
   "execution_count": 21,
   "metadata": {
    "lines_to_next_cell": 2
   },
   "outputs": [
    {
     "data": {
      "image/png": "[encoded data removed]",
      "text/plain": [
       "<Figure size 432x288 with 1 Axes>"
      ]
     },
     "metadata": {
      "needs_background": "light"
     },
     "output_type": "display_data"
    }
   ],
   "source": [
    "\n",
    "\n",
    "if create_plots:\n",
    "    plot_graph(pos_err_store)"
   ]
  },
  {
   "cell_type": "code",
   "execution_count": 22,
   "metadata": {
    "lines_to_next_cell": 2
   },
   "outputs": [
    {
     "data": {
      "image/png": "[encoded data removed]",
      "text/plain": [
       "<Figure size 432x288 with 1 Axes>"
      ]
     },
     "metadata": {
      "needs_background": "light"
     },
     "output_type": "display_data"
    }
   ],
   "source": [
    "\n",
    "\n",
    "if create_plots:\n",
    "    plot_graph(neg_err_store)"
   ]
  },
  {
   "cell_type": "code",
   "execution_count": null,
   "metadata": {
    "lines_to_next_cell": 2
   },
   "outputs": [],
   "source": [
    "\n",
    "\n",
    "if create_plots:\n",
    "    plot_graph(total_error)"
   ]
  },
  {
   "cell_type": "code",
   "execution_count": null,
   "metadata": {
    "lines_to_next_cell": 2
   },
   "outputs": [],
   "source": [
    "\n",
    "\n",
    "if create_plots:\n",
    "    plot_graph(total_goal_error)"
   ]
  },
  {
   "cell_type": "code",
   "execution_count": null,
   "metadata": {
    "lines_to_next_cell": 2
   },
   "outputs": [],
   "source": [
    "\n",
    "\n",
    "if create_plots:\n",
    "    plt.plot(switch_error)"
   ]
  },
  {
   "cell_type": "code",
   "execution_count": null,
   "metadata": {
    "lines_to_next_cell": 2
   },
   "outputs": [],
   "source": [
    "\n",
    "\n",
    "if create_plots:\n",
    "    plot_graph(threshold_vals)"
   ]
  },
  {
   "cell_type": "code",
   "execution_count": null,
   "metadata": {
    "lines_to_next_cell": 2
   },
   "outputs": [],
   "source": [
    "if create_plots:\n",
    "    plot_graph(norm_error)"
   ]
  },
  {
   "cell_type": "code",
   "execution_count": null,
   "metadata": {
    "lines_to_next_cell": 2
   },
   "outputs": [],
   "source": [
    "\n",
    "\n",
    "print(atr_values)"
   ]
  },
  {
   "cell_type": "code",
   "execution_count": null,
   "metadata": {
    "lines_to_next_cell": 2
   },
   "outputs": [],
   "source": [
    "\n",
    "# hrr_length"
   ]
  },
  {
   "cell_type": "code",
   "execution_count": null,
   "metadata": {
    "lines_to_next_cell": 2
   },
   "outputs": [],
   "source": [
    "\n",
    "\n",
    "# ltm.count()"
   ]
  },
  {
   "cell_type": "code",
   "execution_count": null,
   "metadata": {
    "lines_to_next_cell": 2
   },
   "outputs": [],
   "source": [
    "\n",
    "\n",
    "# seed_val"
   ]
  },
  {
   "cell_type": "code",
   "execution_count": null,
   "metadata": {},
   "outputs": [],
   "source": [
    "ltm.count()"
   ]
  },
  {
   "cell_type": "code",
   "execution_count": null,
   "metadata": {},
   "outputs": [],
   "source": []
  },
  {
   "cell_type": "code",
   "execution_count": null,
   "metadata": {},
   "outputs": [],
   "source": []
  },
  {
   "cell_type": "code",
   "execution_count": null,
   "metadata": {},
   "outputs": [],
   "source": []
  }
 ],
 "metadata": {
  "jupytext": {
   "cell_metadata_filter": "-all",
   "encoding": "# coding: utf-8",
   "executable": "/usr/bin/env python",
   "main_language": "python",
   "notebook_metadata_filter": "-all"
  },
  "kernelspec": {
   "display_name": "Research",
   "language": "python",
   "name": "research"
  },
  "language_info": {
   "codemirror_mode": {
    "name": "ipython",
    "version": 3
   },
   "file_extension": ".py",
   "mimetype": "text/x-python",
   "name": "python",
   "nbconvert_exporter": "python",
   "pygments_lexer": "ipython3",
   "version": "3.8.0"
  }
 },
 "nbformat": 4,
 "nbformat_minor": 2
}
